{
 "cells": [
  {
   "cell_type": "markdown",
   "metadata": {},
   "source": [
    "<h1>Описание проекта<span class=\"tocSkip\"></span></h1>\n",
    "\n",
    "Из открытых источников доступны исторические данные о продажах игр, оценки пользователей и экспертов, жанры и платформы (например, Xbox или PlayStation). Нужно выявить определяющие успешность игры закономерности. Это позволит сделать ставку на потенциально популярный продукт и спланировать рекламные кампании.\n",
    " \n",
    "\n",
    "\n",
    "\n",
    "\n",
    "<h1>Описание данных<span class=\"tocSkip\"></span></h1>\n",
    "\n",
    "Name — название игры<br>\n",
    "Platform — платформа<br>\n",
    "Year_of_Release — год выпуска<br>\n",
    "Genre — жанр игры<br>\n",
    "NA_sales — продажи в Северной Америке (миллионы проданных копий)<br>\n",
    "EU_sales — продажи в Европе (миллионы проданных копий)<br>\n",
    "JP_sales — продажи в Японии (миллионы проданных копий)<br>\n",
    "Other_sales — продажи в других странах (миллионы проданных копий)<br>\n",
    "Critic_Score — оценка критиков (максимум 100)<br>\n",
    "User_Score — оценка пользователей (максимум 10)<br>\n",
    "Rating — рейтинг от организации ESRB (англ. Entertainment Software Rating Board). Эта ассоциация определяет рейтинг компьютерных игр и присваивает им подходящую возрастную категорию."
   ]
  },
  {
   "cell_type": "markdown",
   "metadata": {},
   "source": [
    "<h1>Содержание<span class=\"tocSkip\"></span></h1>\n",
    "<div class=\"toc\"><ul class=\"toc-item\"><li><span><a href=\"#Изучение-данных-из-файла\" data-toc-modified-id=\"Изучение-данных-из-файла-1\"><span class=\"toc-item-num\">1&nbsp;&nbsp;</span>Изучение данных из файла</a></span></li><li><span><a href=\"#Вывод\" data-toc-modified-id=\"Вывод-1.1\"><span class=\"toc-item-num\">1.1&nbsp;&nbsp;</span>Вывод</a></span></li><li><span><a href=\"#Предобработка-данных\" data-toc-modified-id=\"Предобработка-данных-2\"><span class=\"toc-item-num\">2&nbsp;&nbsp;</span>Предобработка данных</a></span></li><li><span><a href=\"#Вывод\" data-toc-modified-id=\"Вывод-2.1\"><span class=\"toc-item-num\">2.1&nbsp;&nbsp;</span>Вывод</a></span></li><li><span><a href=\"#Анализ-данных\" data-toc-modified-id=\"Анализ-данных-3\"><span class=\"toc-item-num\">3&nbsp;&nbsp;</span>Анализ данных</a></span></li><li><span><a href=\"#Вывод\" data-toc-modified-id=\"Вывод-3.1\"><span class=\"toc-item-num\">3.1&nbsp;&nbsp;</span>Вывод</a></span></li><li><span><a href=\"#Портрет-пользователя\" data-toc-modified-id=\"Портрет-пользователя-4\"><span class=\"toc-item-num\">4&nbsp;&nbsp;</span>Портрет пользователя</a></span></li><li><span><a href=\"#Вывод\" data-toc-modified-id=\"Вывод-4.1\"><span class=\"toc-item-num\">4.1&nbsp;&nbsp;</span>Вывод</a></span></li><li><span><a href=\"#Проверка-гипотез\" data-toc-modified-id=\"Проверка-гипотез-5\"><span class=\"toc-item-num\">5&nbsp;&nbsp;</span>Проверка гипотез</a></span></li><li><span><a href=\"#Общий-вывод\" data-toc-modified-id=\"Общий-вывод-6\"><span class=\"toc-item-num\">6&nbsp;&nbsp;</span>Общий вывод</a></span></li></ul>"
   ]
  },
  {
   "cell_type": "markdown",
   "metadata": {},
   "source": [
    "## Изучение данных из файла"
   ]
  },
  {
   "cell_type": "code",
   "execution_count": 308,
   "metadata": {},
   "outputs": [],
   "source": [
    "import pandas as pd \n",
    "import matplotlib.pyplot as plt\n",
    "import matplotlib.ticker\n",
    "from scipy import stats as st\n",
    "import numpy as np\n",
    "import seaborn as sns"
   ]
  },
  {
   "cell_type": "code",
   "execution_count": 236,
   "metadata": {},
   "outputs": [
    {
     "name": "stdout",
     "output_type": "stream",
     "text": [
      "<class 'pandas.core.frame.DataFrame'>\n",
      "RangeIndex: 16715 entries, 0 to 16714\n",
      "Data columns (total 11 columns):\n",
      " #   Column           Non-Null Count  Dtype  \n",
      "---  ------           --------------  -----  \n",
      " 0   Name             16713 non-null  object \n",
      " 1   Platform         16715 non-null  object \n",
      " 2   Year_of_Release  16446 non-null  float64\n",
      " 3   Genre            16713 non-null  object \n",
      " 4   NA_sales         16715 non-null  float64\n",
      " 5   EU_sales         16715 non-null  float64\n",
      " 6   JP_sales         16715 non-null  float64\n",
      " 7   Other_sales      16715 non-null  float64\n",
      " 8   Critic_Score     8137 non-null   float64\n",
      " 9   User_Score       10014 non-null  object \n",
      " 10  Rating           9949 non-null   object \n",
      "dtypes: float64(6), object(5)\n",
      "memory usage: 1.4+ MB\n"
     ]
    },
    {
     "data": {
      "text/html": [
       "<div>\n",
       "<style scoped>\n",
       "    .dataframe tbody tr th:only-of-type {\n",
       "        vertical-align: middle;\n",
       "    }\n",
       "\n",
       "    .dataframe tbody tr th {\n",
       "        vertical-align: top;\n",
       "    }\n",
       "\n",
       "    .dataframe thead th {\n",
       "        text-align: right;\n",
       "    }\n",
       "</style>\n",
       "<table border=\"1\" class=\"dataframe\">\n",
       "  <thead>\n",
       "    <tr style=\"text-align: right;\">\n",
       "      <th></th>\n",
       "      <th>Name</th>\n",
       "      <th>Platform</th>\n",
       "      <th>Year_of_Release</th>\n",
       "      <th>Genre</th>\n",
       "      <th>NA_sales</th>\n",
       "      <th>EU_sales</th>\n",
       "      <th>JP_sales</th>\n",
       "      <th>Other_sales</th>\n",
       "      <th>Critic_Score</th>\n",
       "      <th>User_Score</th>\n",
       "      <th>Rating</th>\n",
       "    </tr>\n",
       "  </thead>\n",
       "  <tbody>\n",
       "    <tr>\n",
       "      <th>0</th>\n",
       "      <td>Wii Sports</td>\n",
       "      <td>Wii</td>\n",
       "      <td>2006.0</td>\n",
       "      <td>Sports</td>\n",
       "      <td>41.36</td>\n",
       "      <td>28.96</td>\n",
       "      <td>3.77</td>\n",
       "      <td>8.45</td>\n",
       "      <td>76.0</td>\n",
       "      <td>8</td>\n",
       "      <td>E</td>\n",
       "    </tr>\n",
       "    <tr>\n",
       "      <th>1</th>\n",
       "      <td>Super Mario Bros.</td>\n",
       "      <td>NES</td>\n",
       "      <td>1985.0</td>\n",
       "      <td>Platform</td>\n",
       "      <td>29.08</td>\n",
       "      <td>3.58</td>\n",
       "      <td>6.81</td>\n",
       "      <td>0.77</td>\n",
       "      <td>NaN</td>\n",
       "      <td>NaN</td>\n",
       "      <td>NaN</td>\n",
       "    </tr>\n",
       "    <tr>\n",
       "      <th>2</th>\n",
       "      <td>Mario Kart Wii</td>\n",
       "      <td>Wii</td>\n",
       "      <td>2008.0</td>\n",
       "      <td>Racing</td>\n",
       "      <td>15.68</td>\n",
       "      <td>12.76</td>\n",
       "      <td>3.79</td>\n",
       "      <td>3.29</td>\n",
       "      <td>82.0</td>\n",
       "      <td>8.3</td>\n",
       "      <td>E</td>\n",
       "    </tr>\n",
       "    <tr>\n",
       "      <th>3</th>\n",
       "      <td>Wii Sports Resort</td>\n",
       "      <td>Wii</td>\n",
       "      <td>2009.0</td>\n",
       "      <td>Sports</td>\n",
       "      <td>15.61</td>\n",
       "      <td>10.93</td>\n",
       "      <td>3.28</td>\n",
       "      <td>2.95</td>\n",
       "      <td>80.0</td>\n",
       "      <td>8</td>\n",
       "      <td>E</td>\n",
       "    </tr>\n",
       "    <tr>\n",
       "      <th>4</th>\n",
       "      <td>Pokemon Red/Pokemon Blue</td>\n",
       "      <td>GB</td>\n",
       "      <td>1996.0</td>\n",
       "      <td>Role-Playing</td>\n",
       "      <td>11.27</td>\n",
       "      <td>8.89</td>\n",
       "      <td>10.22</td>\n",
       "      <td>1.00</td>\n",
       "      <td>NaN</td>\n",
       "      <td>NaN</td>\n",
       "      <td>NaN</td>\n",
       "    </tr>\n",
       "    <tr>\n",
       "      <th>5</th>\n",
       "      <td>Tetris</td>\n",
       "      <td>GB</td>\n",
       "      <td>1989.0</td>\n",
       "      <td>Puzzle</td>\n",
       "      <td>23.20</td>\n",
       "      <td>2.26</td>\n",
       "      <td>4.22</td>\n",
       "      <td>0.58</td>\n",
       "      <td>NaN</td>\n",
       "      <td>NaN</td>\n",
       "      <td>NaN</td>\n",
       "    </tr>\n",
       "    <tr>\n",
       "      <th>6</th>\n",
       "      <td>New Super Mario Bros.</td>\n",
       "      <td>DS</td>\n",
       "      <td>2006.0</td>\n",
       "      <td>Platform</td>\n",
       "      <td>11.28</td>\n",
       "      <td>9.14</td>\n",
       "      <td>6.50</td>\n",
       "      <td>2.88</td>\n",
       "      <td>89.0</td>\n",
       "      <td>8.5</td>\n",
       "      <td>E</td>\n",
       "    </tr>\n",
       "    <tr>\n",
       "      <th>7</th>\n",
       "      <td>Wii Play</td>\n",
       "      <td>Wii</td>\n",
       "      <td>2006.0</td>\n",
       "      <td>Misc</td>\n",
       "      <td>13.96</td>\n",
       "      <td>9.18</td>\n",
       "      <td>2.93</td>\n",
       "      <td>2.84</td>\n",
       "      <td>58.0</td>\n",
       "      <td>6.6</td>\n",
       "      <td>E</td>\n",
       "    </tr>\n",
       "    <tr>\n",
       "      <th>8</th>\n",
       "      <td>New Super Mario Bros. Wii</td>\n",
       "      <td>Wii</td>\n",
       "      <td>2009.0</td>\n",
       "      <td>Platform</td>\n",
       "      <td>14.44</td>\n",
       "      <td>6.94</td>\n",
       "      <td>4.70</td>\n",
       "      <td>2.24</td>\n",
       "      <td>87.0</td>\n",
       "      <td>8.4</td>\n",
       "      <td>E</td>\n",
       "    </tr>\n",
       "    <tr>\n",
       "      <th>9</th>\n",
       "      <td>Duck Hunt</td>\n",
       "      <td>NES</td>\n",
       "      <td>1984.0</td>\n",
       "      <td>Shooter</td>\n",
       "      <td>26.93</td>\n",
       "      <td>0.63</td>\n",
       "      <td>0.28</td>\n",
       "      <td>0.47</td>\n",
       "      <td>NaN</td>\n",
       "      <td>NaN</td>\n",
       "      <td>NaN</td>\n",
       "    </tr>\n",
       "  </tbody>\n",
       "</table>\n",
       "</div>"
      ],
      "text/plain": [
       "                        Name Platform  Year_of_Release         Genre  \\\n",
       "0                 Wii Sports      Wii           2006.0        Sports   \n",
       "1          Super Mario Bros.      NES           1985.0      Platform   \n",
       "2             Mario Kart Wii      Wii           2008.0        Racing   \n",
       "3          Wii Sports Resort      Wii           2009.0        Sports   \n",
       "4   Pokemon Red/Pokemon Blue       GB           1996.0  Role-Playing   \n",
       "5                     Tetris       GB           1989.0        Puzzle   \n",
       "6      New Super Mario Bros.       DS           2006.0      Platform   \n",
       "7                   Wii Play      Wii           2006.0          Misc   \n",
       "8  New Super Mario Bros. Wii      Wii           2009.0      Platform   \n",
       "9                  Duck Hunt      NES           1984.0       Shooter   \n",
       "\n",
       "   NA_sales  EU_sales  JP_sales  Other_sales  Critic_Score User_Score Rating  \n",
       "0     41.36     28.96      3.77         8.45          76.0          8      E  \n",
       "1     29.08      3.58      6.81         0.77           NaN        NaN    NaN  \n",
       "2     15.68     12.76      3.79         3.29          82.0        8.3      E  \n",
       "3     15.61     10.93      3.28         2.95          80.0          8      E  \n",
       "4     11.27      8.89     10.22         1.00           NaN        NaN    NaN  \n",
       "5     23.20      2.26      4.22         0.58           NaN        NaN    NaN  \n",
       "6     11.28      9.14      6.50         2.88          89.0        8.5      E  \n",
       "7     13.96      9.18      2.93         2.84          58.0        6.6      E  \n",
       "8     14.44      6.94      4.70         2.24          87.0        8.4      E  \n",
       "9     26.93      0.63      0.28         0.47           NaN        NaN    NaN  "
      ]
     },
     "execution_count": 236,
     "metadata": {},
     "output_type": "execute_result"
    }
   ],
   "source": [
    "data = pd.read_csv('games.csv')\n",
    "data.info()\n",
    "data.head(10)"
   ]
  },
  {
   "cell_type": "markdown",
   "metadata": {},
   "source": [
    "Столбец User_Score имеет тип object, хотя в нём должны быть числовые данные. Посмотрим, какие значения он принимает."
   ]
  },
  {
   "cell_type": "code",
   "execution_count": 237,
   "metadata": {},
   "outputs": [
    {
     "data": {
      "text/plain": [
       "array(['8', nan, '8.3', '8.5', '6.6', '8.4', '8.6', '7.7', '6.3', '7.4',\n",
       "       '8.2', '9', '7.9', '8.1', '8.7', '7.1', '3.4', '5.3', '4.8', '3.2',\n",
       "       '8.9', '6.4', '7.8', '7.5', '2.6', '7.2', '9.2', '7', '7.3', '4.3',\n",
       "       '7.6', '5.7', '5', '9.1', '6.5', 'tbd', '8.8', '6.9', '9.4', '6.8',\n",
       "       '6.1', '6.7', '5.4', '4', '4.9', '4.5', '9.3', '6.2', '4.2', '6',\n",
       "       '3.7', '4.1', '5.8', '5.6', '5.5', '4.4', '4.6', '5.9', '3.9',\n",
       "       '3.1', '2.9', '5.2', '3.3', '4.7', '5.1', '3.5', '2.5', '1.9', '3',\n",
       "       '2.7', '2.2', '2', '9.5', '2.1', '3.6', '2.8', '1.8', '3.8', '0',\n",
       "       '1.6', '9.6', '2.4', '1.7', '1.1', '0.3', '1.5', '0.7', '1.2',\n",
       "       '2.3', '0.5', '1.3', '0.2', '0.6', '1.4', '0.9', '1', '9.7'],\n",
       "      dtype=object)"
      ]
     },
     "execution_count": 237,
     "metadata": {},
     "output_type": "execute_result"
    }
   ],
   "source": [
    "data['User_Score'].unique()"
   ]
  },
  {
   "cell_type": "code",
   "execution_count": 238,
   "metadata": {},
   "outputs": [
    {
     "data": {
      "text/plain": [
       "(2424, 11)"
      ]
     },
     "execution_count": 238,
     "metadata": {},
     "output_type": "execute_result"
    }
   ],
   "source": [
    "data[data['User_Score']=='tbd'].shape"
   ]
  },
  {
   "cell_type": "markdown",
   "metadata": {},
   "source": [
    "В User_Score присутствуют значения 'tbd' (2424 записей), скорее всего означающие 'to be determined'(подлежит определению), т.е. эти значения можно интерпретировать как NaN. Заменим 'tbd' на NaN в user_score."
   ]
  },
  {
   "cell_type": "code",
   "execution_count": 239,
   "metadata": {},
   "outputs": [],
   "source": [
    "data.loc[data['User_Score']=='tbd', 'User_Score'] = np.nan"
   ]
  },
  {
   "cell_type": "code",
   "execution_count": 240,
   "metadata": {},
   "outputs": [
    {
     "data": {
      "text/html": [
       "<div>\n",
       "<style scoped>\n",
       "    .dataframe tbody tr th:only-of-type {\n",
       "        vertical-align: middle;\n",
       "    }\n",
       "\n",
       "    .dataframe tbody tr th {\n",
       "        vertical-align: top;\n",
       "    }\n",
       "\n",
       "    .dataframe thead th {\n",
       "        text-align: right;\n",
       "    }\n",
       "</style>\n",
       "<table border=\"1\" class=\"dataframe\">\n",
       "  <thead>\n",
       "    <tr style=\"text-align: right;\">\n",
       "      <th></th>\n",
       "      <th>missing_values</th>\n",
       "      <th>% of total</th>\n",
       "    </tr>\n",
       "  </thead>\n",
       "  <tbody>\n",
       "    <tr>\n",
       "      <th>User_Score</th>\n",
       "      <td>9125</td>\n",
       "      <td>0.55</td>\n",
       "    </tr>\n",
       "    <tr>\n",
       "      <th>Critic_Score</th>\n",
       "      <td>8578</td>\n",
       "      <td>0.51</td>\n",
       "    </tr>\n",
       "    <tr>\n",
       "      <th>Rating</th>\n",
       "      <td>6766</td>\n",
       "      <td>0.40</td>\n",
       "    </tr>\n",
       "    <tr>\n",
       "      <th>Year_of_Release</th>\n",
       "      <td>269</td>\n",
       "      <td>0.02</td>\n",
       "    </tr>\n",
       "    <tr>\n",
       "      <th>Name</th>\n",
       "      <td>2</td>\n",
       "      <td>0.00</td>\n",
       "    </tr>\n",
       "    <tr>\n",
       "      <th>Genre</th>\n",
       "      <td>2</td>\n",
       "      <td>0.00</td>\n",
       "    </tr>\n",
       "    <tr>\n",
       "      <th>Platform</th>\n",
       "      <td>0</td>\n",
       "      <td>0.00</td>\n",
       "    </tr>\n",
       "    <tr>\n",
       "      <th>NA_sales</th>\n",
       "      <td>0</td>\n",
       "      <td>0.00</td>\n",
       "    </tr>\n",
       "    <tr>\n",
       "      <th>EU_sales</th>\n",
       "      <td>0</td>\n",
       "      <td>0.00</td>\n",
       "    </tr>\n",
       "    <tr>\n",
       "      <th>JP_sales</th>\n",
       "      <td>0</td>\n",
       "      <td>0.00</td>\n",
       "    </tr>\n",
       "    <tr>\n",
       "      <th>Other_sales</th>\n",
       "      <td>0</td>\n",
       "      <td>0.00</td>\n",
       "    </tr>\n",
       "  </tbody>\n",
       "</table>\n",
       "</div>"
      ],
      "text/plain": [
       "                 missing_values  % of total\n",
       "User_Score                 9125        0.55\n",
       "Critic_Score               8578        0.51\n",
       "Rating                     6766        0.40\n",
       "Year_of_Release             269        0.02\n",
       "Name                          2        0.00\n",
       "Genre                         2        0.00\n",
       "Platform                      0        0.00\n",
       "NA_sales                      0        0.00\n",
       "EU_sales                      0        0.00\n",
       "JP_sales                      0        0.00\n",
       "Other_sales                   0        0.00"
      ]
     },
     "execution_count": 240,
     "metadata": {},
     "output_type": "execute_result"
    }
   ],
   "source": [
    "report = data.isna().sum().to_frame()\n",
    "report = report.rename(columns = {0: 'missing_values'})\n",
    "report['% of total'] = (report['missing_values'] / data.shape[0]).round(2)\n",
    "report.sort_values(by = 'missing_values', ascending = False)"
   ]
  },
  {
   "cell_type": "code",
   "execution_count": 241,
   "metadata": {},
   "outputs": [
    {
     "data": {
      "text/plain": [
       "0"
      ]
     },
     "execution_count": 241,
     "metadata": {},
     "output_type": "execute_result"
    }
   ],
   "source": [
    "data.duplicated().sum()"
   ]
  },
  {
   "cell_type": "markdown",
   "metadata": {},
   "source": [
    "Возможно, пропуски в Rating присутствуют в основном в старых играх и обусловлены тем, что ESRB ещё не начала свою деятельность. \n",
    "\n",
    "Также, возможно, пропуски в Critic_Score и User_Score более характерны для старых игр и обусловлены отсутствием масштабности рецензирования игр в те годы.\n",
    "\n",
    "Проверим эти гипотезы, построив графики \"ящик с усами\". "
   ]
  },
  {
   "cell_type": "code",
   "execution_count": 242,
   "metadata": {},
   "outputs": [
    {
     "data": {
      "image/png": "[encoded data removed]",
      "text/plain": [
       "<Figure size 432x288 with 1 Axes>"
      ]
     },
     "metadata": {
      "needs_background": "light"
     },
     "output_type": "display_data"
    }
   ],
   "source": [
    "data[data['Rating'].isna()].boxplot('Year_of_Release');"
   ]
  },
  {
   "cell_type": "code",
   "execution_count": 243,
   "metadata": {},
   "outputs": [
    {
     "data": {
      "image/png": "[encoded data removed]",
      "text/plain": [
       "<Figure size 432x288 with 1 Axes>"
      ]
     },
     "metadata": {
      "needs_background": "light"
     },
     "output_type": "display_data"
    }
   ],
   "source": [
    "data[data['Critic_Score'].isna()].boxplot('Year_of_Release');"
   ]
  },
  {
   "cell_type": "code",
   "execution_count": 244,
   "metadata": {},
   "outputs": [
    {
     "data": {
      "image/png": "[encoded data removed]",
      "text/plain": [
       "<Figure size 432x288 with 1 Axes>"
      ]
     },
     "metadata": {
      "needs_background": "light"
     },
     "output_type": "display_data"
    }
   ],
   "source": [
    "data[data['User_Score'].isna()].boxplot('Year_of_Release');"
   ]
  },
  {
   "cell_type": "markdown",
   "metadata": {},
   "source": [
    "### Вывод"
   ]
  },
  {
   "cell_type": "markdown",
   "metadata": {},
   "source": [
    "Присутствуют пропуски в столбцах User_Score(0.55%), Critic_Score(0.51%), Rating(0.40%), а также небольшое количество пропусков в Year_of_Release(269 записей - 0.02%), Name и Genre(по две записи). Гипотезы о типичности пропусков в User_Score, Critic_Score и Rating для старых игр не подтвердились. В Rating значения NaN можно объяснить незаинтересованностью ESRB в выставлении рейтинга. Пропуски во всех столбцах в основном обусловлены, скорее всего, ошибками при сборе данных/составлении таблицы, т.е. полностью случайны."
   ]
  },
  {
   "cell_type": "markdown",
   "metadata": {},
   "source": [
    "## Предобработка данных"
   ]
  },
  {
   "cell_type": "markdown",
   "metadata": {},
   "source": [
    "Названия столбцов для удобства приведём к нижнему регистру. \n",
    "Пропуски в name, year_of_release и genre составляют небольшой процент, строки с ними удалим. \n",
    "В rating значения NaN заменим на 'undefined', чтобы не выкидывать их из анализа, т.к. эти пропуски, вероятно, не случайны.\n",
    "Также создадим новый столбец 'all_sales' с суммарными продажами по всем регионам."
   ]
  },
  {
   "cell_type": "code",
   "execution_count": 245,
   "metadata": {},
   "outputs": [
    {
     "name": "stdout",
     "output_type": "stream",
     "text": [
      "<class 'pandas.core.frame.DataFrame'>\n",
      "Int64Index: 16444 entries, 0 to 16714\n",
      "Data columns (total 12 columns):\n",
      " #   Column           Non-Null Count  Dtype  \n",
      "---  ------           --------------  -----  \n",
      " 0   name             16444 non-null  object \n",
      " 1   platform         16444 non-null  object \n",
      " 2   year_of_release  16444 non-null  int32  \n",
      " 3   genre            16444 non-null  object \n",
      " 4   na_sales         16444 non-null  float64\n",
      " 5   eu_sales         16444 non-null  float64\n",
      " 6   jp_sales         16444 non-null  float64\n",
      " 7   other_sales      16444 non-null  float64\n",
      " 8   critic_score     7983 non-null   float64\n",
      " 9   user_score       7463 non-null   float64\n",
      " 10  rating           16444 non-null  object \n",
      " 11  all_sales        16444 non-null  float64\n",
      "dtypes: float64(7), int32(1), object(4)\n",
      "memory usage: 1.6+ MB\n"
     ]
    },
    {
     "data": {
      "text/html": [
       "<div>\n",
       "<style scoped>\n",
       "    .dataframe tbody tr th:only-of-type {\n",
       "        vertical-align: middle;\n",
       "    }\n",
       "\n",
       "    .dataframe tbody tr th {\n",
       "        vertical-align: top;\n",
       "    }\n",
       "\n",
       "    .dataframe thead th {\n",
       "        text-align: right;\n",
       "    }\n",
       "</style>\n",
       "<table border=\"1\" class=\"dataframe\">\n",
       "  <thead>\n",
       "    <tr style=\"text-align: right;\">\n",
       "      <th></th>\n",
       "      <th>name</th>\n",
       "      <th>platform</th>\n",
       "      <th>year_of_release</th>\n",
       "      <th>genre</th>\n",
       "      <th>na_sales</th>\n",
       "      <th>eu_sales</th>\n",
       "      <th>jp_sales</th>\n",
       "      <th>other_sales</th>\n",
       "      <th>critic_score</th>\n",
       "      <th>user_score</th>\n",
       "      <th>rating</th>\n",
       "      <th>all_sales</th>\n",
       "    </tr>\n",
       "  </thead>\n",
       "  <tbody>\n",
       "    <tr>\n",
       "      <th>0</th>\n",
       "      <td>Wii Sports</td>\n",
       "      <td>Wii</td>\n",
       "      <td>2006</td>\n",
       "      <td>Sports</td>\n",
       "      <td>41.36</td>\n",
       "      <td>28.96</td>\n",
       "      <td>3.77</td>\n",
       "      <td>8.45</td>\n",
       "      <td>76.0</td>\n",
       "      <td>8.0</td>\n",
       "      <td>E</td>\n",
       "      <td>82.54</td>\n",
       "    </tr>\n",
       "    <tr>\n",
       "      <th>1</th>\n",
       "      <td>Super Mario Bros.</td>\n",
       "      <td>NES</td>\n",
       "      <td>1985</td>\n",
       "      <td>Platform</td>\n",
       "      <td>29.08</td>\n",
       "      <td>3.58</td>\n",
       "      <td>6.81</td>\n",
       "      <td>0.77</td>\n",
       "      <td>NaN</td>\n",
       "      <td>NaN</td>\n",
       "      <td>undefined</td>\n",
       "      <td>40.24</td>\n",
       "    </tr>\n",
       "    <tr>\n",
       "      <th>2</th>\n",
       "      <td>Mario Kart Wii</td>\n",
       "      <td>Wii</td>\n",
       "      <td>2008</td>\n",
       "      <td>Racing</td>\n",
       "      <td>15.68</td>\n",
       "      <td>12.76</td>\n",
       "      <td>3.79</td>\n",
       "      <td>3.29</td>\n",
       "      <td>82.0</td>\n",
       "      <td>8.3</td>\n",
       "      <td>E</td>\n",
       "      <td>35.52</td>\n",
       "    </tr>\n",
       "    <tr>\n",
       "      <th>3</th>\n",
       "      <td>Wii Sports Resort</td>\n",
       "      <td>Wii</td>\n",
       "      <td>2009</td>\n",
       "      <td>Sports</td>\n",
       "      <td>15.61</td>\n",
       "      <td>10.93</td>\n",
       "      <td>3.28</td>\n",
       "      <td>2.95</td>\n",
       "      <td>80.0</td>\n",
       "      <td>8.0</td>\n",
       "      <td>E</td>\n",
       "      <td>32.77</td>\n",
       "    </tr>\n",
       "    <tr>\n",
       "      <th>4</th>\n",
       "      <td>Pokemon Red/Pokemon Blue</td>\n",
       "      <td>GB</td>\n",
       "      <td>1996</td>\n",
       "      <td>Role-Playing</td>\n",
       "      <td>11.27</td>\n",
       "      <td>8.89</td>\n",
       "      <td>10.22</td>\n",
       "      <td>1.00</td>\n",
       "      <td>NaN</td>\n",
       "      <td>NaN</td>\n",
       "      <td>undefined</td>\n",
       "      <td>31.38</td>\n",
       "    </tr>\n",
       "    <tr>\n",
       "      <th>5</th>\n",
       "      <td>Tetris</td>\n",
       "      <td>GB</td>\n",
       "      <td>1989</td>\n",
       "      <td>Puzzle</td>\n",
       "      <td>23.20</td>\n",
       "      <td>2.26</td>\n",
       "      <td>4.22</td>\n",
       "      <td>0.58</td>\n",
       "      <td>NaN</td>\n",
       "      <td>NaN</td>\n",
       "      <td>undefined</td>\n",
       "      <td>30.26</td>\n",
       "    </tr>\n",
       "    <tr>\n",
       "      <th>6</th>\n",
       "      <td>New Super Mario Bros.</td>\n",
       "      <td>DS</td>\n",
       "      <td>2006</td>\n",
       "      <td>Platform</td>\n",
       "      <td>11.28</td>\n",
       "      <td>9.14</td>\n",
       "      <td>6.50</td>\n",
       "      <td>2.88</td>\n",
       "      <td>89.0</td>\n",
       "      <td>8.5</td>\n",
       "      <td>E</td>\n",
       "      <td>29.80</td>\n",
       "    </tr>\n",
       "    <tr>\n",
       "      <th>7</th>\n",
       "      <td>Wii Play</td>\n",
       "      <td>Wii</td>\n",
       "      <td>2006</td>\n",
       "      <td>Misc</td>\n",
       "      <td>13.96</td>\n",
       "      <td>9.18</td>\n",
       "      <td>2.93</td>\n",
       "      <td>2.84</td>\n",
       "      <td>58.0</td>\n",
       "      <td>6.6</td>\n",
       "      <td>E</td>\n",
       "      <td>28.91</td>\n",
       "    </tr>\n",
       "    <tr>\n",
       "      <th>8</th>\n",
       "      <td>New Super Mario Bros. Wii</td>\n",
       "      <td>Wii</td>\n",
       "      <td>2009</td>\n",
       "      <td>Platform</td>\n",
       "      <td>14.44</td>\n",
       "      <td>6.94</td>\n",
       "      <td>4.70</td>\n",
       "      <td>2.24</td>\n",
       "      <td>87.0</td>\n",
       "      <td>8.4</td>\n",
       "      <td>E</td>\n",
       "      <td>28.32</td>\n",
       "    </tr>\n",
       "    <tr>\n",
       "      <th>9</th>\n",
       "      <td>Duck Hunt</td>\n",
       "      <td>NES</td>\n",
       "      <td>1984</td>\n",
       "      <td>Shooter</td>\n",
       "      <td>26.93</td>\n",
       "      <td>0.63</td>\n",
       "      <td>0.28</td>\n",
       "      <td>0.47</td>\n",
       "      <td>NaN</td>\n",
       "      <td>NaN</td>\n",
       "      <td>undefined</td>\n",
       "      <td>28.31</td>\n",
       "    </tr>\n",
       "  </tbody>\n",
       "</table>\n",
       "</div>"
      ],
      "text/plain": [
       "                        name platform  year_of_release         genre  \\\n",
       "0                 Wii Sports      Wii             2006        Sports   \n",
       "1          Super Mario Bros.      NES             1985      Platform   \n",
       "2             Mario Kart Wii      Wii             2008        Racing   \n",
       "3          Wii Sports Resort      Wii             2009        Sports   \n",
       "4   Pokemon Red/Pokemon Blue       GB             1996  Role-Playing   \n",
       "5                     Tetris       GB             1989        Puzzle   \n",
       "6      New Super Mario Bros.       DS             2006      Platform   \n",
       "7                   Wii Play      Wii             2006          Misc   \n",
       "8  New Super Mario Bros. Wii      Wii             2009      Platform   \n",
       "9                  Duck Hunt      NES             1984       Shooter   \n",
       "\n",
       "   na_sales  eu_sales  jp_sales  other_sales  critic_score  user_score  \\\n",
       "0     41.36     28.96      3.77         8.45          76.0         8.0   \n",
       "1     29.08      3.58      6.81         0.77           NaN         NaN   \n",
       "2     15.68     12.76      3.79         3.29          82.0         8.3   \n",
       "3     15.61     10.93      3.28         2.95          80.0         8.0   \n",
       "4     11.27      8.89     10.22         1.00           NaN         NaN   \n",
       "5     23.20      2.26      4.22         0.58           NaN         NaN   \n",
       "6     11.28      9.14      6.50         2.88          89.0         8.5   \n",
       "7     13.96      9.18      2.93         2.84          58.0         6.6   \n",
       "8     14.44      6.94      4.70         2.24          87.0         8.4   \n",
       "9     26.93      0.63      0.28         0.47           NaN         NaN   \n",
       "\n",
       "      rating  all_sales  \n",
       "0          E      82.54  \n",
       "1  undefined      40.24  \n",
       "2          E      35.52  \n",
       "3          E      32.77  \n",
       "4  undefined      31.38  \n",
       "5  undefined      30.26  \n",
       "6          E      29.80  \n",
       "7          E      28.91  \n",
       "8          E      28.32  \n",
       "9  undefined      28.31  "
      ]
     },
     "execution_count": 245,
     "metadata": {},
     "output_type": "execute_result"
    }
   ],
   "source": [
    "data.columns = data.columns.str.lower()\n",
    "\n",
    "data = data.dropna(subset=['name', 'year_of_release', 'genre'])\n",
    "\n",
    "data['year_of_release'] = data['year_of_release'].astype('int')\n",
    "data['user_score'] = data['user_score'].astype('float')\n",
    "\n",
    "data['all_sales'] = data['na_sales'] + data['eu_sales'] + data['jp_sales'] + data['other_sales']\n",
    "\n",
    "data.loc[data['rating'].isna(),'rating'] = 'undefined'\n",
    "\n",
    "\n",
    "data.info()\n",
    "data.head(10)"
   ]
  },
  {
   "cell_type": "markdown",
   "metadata": {},
   "source": [
    "### Вывод"
   ]
  },
  {
   "cell_type": "markdown",
   "metadata": {},
   "source": [
    "Во всех столбцах, кроме Rating причины пропусков мне видятся сугубо техническими(ошибки при сборе информации и составлении таблицы). Т.к. пропуски занимают значительный процент от всех записей, а заменить их достоверными данными не предоставляется возможным, оставим значения NaN, чтобы не терять данные для анализа, при котором тот или иной столбец с пропусками не используется и его значения можно проигнорировать."
   ]
  },
  {
   "cell_type": "markdown",
   "metadata": {},
   "source": [
    "## Анализ данных"
   ]
  },
  {
   "cell_type": "markdown",
   "metadata": {},
   "source": [
    "Посмотрим на распределение по годам, чтобы выбрать актуальный период для анализа. "
   ]
  },
  {
   "cell_type": "code",
   "execution_count": 246,
   "metadata": {},
   "outputs": [
    {
     "data": {
      "text/plain": [
       "count    16444.000000\n",
       "mean      2006.486256\n",
       "std          5.875525\n",
       "min       1980.000000\n",
       "25%       2003.000000\n",
       "50%       2007.000000\n",
       "75%       2010.000000\n",
       "max       2016.000000\n",
       "Name: year_of_release, dtype: float64"
      ]
     },
     "execution_count": 246,
     "metadata": {},
     "output_type": "execute_result"
    }
   ],
   "source": [
    "data['year_of_release'].describe()"
   ]
  },
  {
   "cell_type": "code",
   "execution_count": 247,
   "metadata": {},
   "outputs": [
    {
     "data": {
      "image/png": "[encoded data removed]",
      "text/plain": [
       "<Figure size 432x288 with 1 Axes>"
      ]
     },
     "metadata": {
      "needs_background": "light"
     },
     "output_type": "display_data"
    },
    {
     "data": {
      "image/png": "[encoded data removed]",
      "text/plain": [
       "<Figure size 432x288 with 1 Axes>"
      ]
     },
     "metadata": {
      "needs_background": "light"
     },
     "output_type": "display_data"
    }
   ],
   "source": [
    "data.boxplot('year_of_release')\n",
    "data.hist('year_of_release', bins=31);"
   ]
  },
  {
   "cell_type": "markdown",
   "metadata": {},
   "source": [
    "Данные до 1993 года неважны, т.к. данных за этот период слишком мало."
   ]
  },
  {
   "cell_type": "markdown",
   "metadata": {},
   "source": [
    "Составим рейтинг платформ по суммарным продажам."
   ]
  },
  {
   "cell_type": "code",
   "execution_count": 248,
   "metadata": {},
   "outputs": [
    {
     "data": {
      "text/html": [
       "<div>\n",
       "<style scoped>\n",
       "    .dataframe tbody tr th:only-of-type {\n",
       "        vertical-align: middle;\n",
       "    }\n",
       "\n",
       "    .dataframe tbody tr th {\n",
       "        vertical-align: top;\n",
       "    }\n",
       "\n",
       "    .dataframe thead th {\n",
       "        text-align: right;\n",
       "    }\n",
       "</style>\n",
       "<table border=\"1\" class=\"dataframe\">\n",
       "  <thead>\n",
       "    <tr style=\"text-align: right;\">\n",
       "      <th></th>\n",
       "      <th>platform</th>\n",
       "      <th>all_sales</th>\n",
       "    </tr>\n",
       "  </thead>\n",
       "  <tbody>\n",
       "    <tr>\n",
       "      <th>0</th>\n",
       "      <td>PS2</td>\n",
       "      <td>1233.56</td>\n",
       "    </tr>\n",
       "    <tr>\n",
       "      <th>1</th>\n",
       "      <td>X360</td>\n",
       "      <td>961.24</td>\n",
       "    </tr>\n",
       "    <tr>\n",
       "      <th>2</th>\n",
       "      <td>PS3</td>\n",
       "      <td>931.34</td>\n",
       "    </tr>\n",
       "    <tr>\n",
       "      <th>3</th>\n",
       "      <td>Wii</td>\n",
       "      <td>891.18</td>\n",
       "    </tr>\n",
       "    <tr>\n",
       "      <th>4</th>\n",
       "      <td>DS</td>\n",
       "      <td>802.76</td>\n",
       "    </tr>\n",
       "    <tr>\n",
       "      <th>5</th>\n",
       "      <td>PS</td>\n",
       "      <td>727.58</td>\n",
       "    </tr>\n",
       "    <tr>\n",
       "      <th>6</th>\n",
       "      <td>PS4</td>\n",
       "      <td>314.14</td>\n",
       "    </tr>\n",
       "    <tr>\n",
       "      <th>7</th>\n",
       "      <td>GBA</td>\n",
       "      <td>312.88</td>\n",
       "    </tr>\n",
       "    <tr>\n",
       "      <th>8</th>\n",
       "      <td>PSP</td>\n",
       "      <td>289.53</td>\n",
       "    </tr>\n",
       "    <tr>\n",
       "      <th>9</th>\n",
       "      <td>3DS</td>\n",
       "      <td>257.81</td>\n",
       "    </tr>\n",
       "  </tbody>\n",
       "</table>\n",
       "</div>"
      ],
      "text/plain": [
       "  platform  all_sales\n",
       "0      PS2    1233.56\n",
       "1     X360     961.24\n",
       "2      PS3     931.34\n",
       "3      Wii     891.18\n",
       "4       DS     802.76\n",
       "5       PS     727.58\n",
       "6      PS4     314.14\n",
       "7      GBA     312.88\n",
       "8      PSP     289.53\n",
       "9      3DS     257.81"
      ]
     },
     "execution_count": 248,
     "metadata": {},
     "output_type": "execute_result"
    }
   ],
   "source": [
    "platform_r = data[data['year_of_release']>1993\n",
    "                 ].groupby('platform')['all_sales'].sum().sort_values(ascending=False).reset_index()\n",
    "platform_r.head(10)"
   ]
  },
  {
   "cell_type": "code",
   "execution_count": 249,
   "metadata": {},
   "outputs": [
    {
     "data": {
      "image/png": "[encoded data removed]",
      "text/plain": [
       "<Figure size 1440x576 with 1 Axes>"
      ]
     },
     "metadata": {
      "needs_background": "light"
     },
     "output_type": "display_data"
    }
   ],
   "source": [
    "plt.figure(figsize=(20, 8))\n",
    "\n",
    "sns.barplot(x= 'platform', y='all_sales', data=platform_r)\n",
    "plt.title('Продажи по платформам за весь период')\n",
    "plt.xlabel('Платформа')\n",
    "plt.ylabel('Прибыльность');"
   ]
  },
  {
   "cell_type": "markdown",
   "metadata": {},
   "source": [
    "Посмотрим, сколько игр выпускалось ежегодно для каждой платформы из топ-10 по суммарным продажам."
   ]
  },
  {
   "cell_type": "code",
   "execution_count": 250,
   "metadata": {},
   "outputs": [
    {
     "data": {
      "image/png": "[encoded data removed]",
      "text/plain": [
       "<Figure size 432x288 with 1 Axes>"
      ]
     },
     "metadata": {
      "needs_background": "light"
     },
     "output_type": "display_data"
    }
   ],
   "source": [
    "plt.bar(data[data['platform']=='PS2'].groupby('year_of_release')['name'].count().index,\n",
    "        data[data['platform']=='PS2'].groupby('year_of_release')['name'].count(), color = '#EE6363')\n",
    "plt.title('PS2');"
   ]
  },
  {
   "cell_type": "code",
   "execution_count": 251,
   "metadata": {},
   "outputs": [
    {
     "data": {
      "image/png": "[encoded data removed]",
      "text/plain": [
       "<Figure size 432x288 with 1 Axes>"
      ]
     },
     "metadata": {
      "needs_background": "light"
     },
     "output_type": "display_data"
    }
   ],
   "source": [
    "plt.bar(data[data['platform']=='X360'].groupby('year_of_release')['name'].count().index,\n",
    "        data[data['platform']=='X360'].groupby('year_of_release')['name'].count(), color = '#EE6363')\n",
    "plt.title('X360');"
   ]
  },
  {
   "cell_type": "code",
   "execution_count": 252,
   "metadata": {},
   "outputs": [
    {
     "data": {
      "image/png": "[encoded data removed]",
      "text/plain": [
       "<Figure size 432x288 with 1 Axes>"
      ]
     },
     "metadata": {
      "needs_background": "light"
     },
     "output_type": "display_data"
    }
   ],
   "source": [
    "plt.bar(data[data['platform']=='PS3'].groupby('year_of_release')['name'].count().index,\n",
    "        data[data['platform']=='PS3'].groupby('year_of_release')['name'].count(), color = '#EE6363')\n",
    "plt.title('PS3');"
   ]
  },
  {
   "cell_type": "code",
   "execution_count": 253,
   "metadata": {},
   "outputs": [
    {
     "data": {
      "image/png": "[encoded data removed]",
      "text/plain": [
       "<Figure size 432x288 with 1 Axes>"
      ]
     },
     "metadata": {
      "needs_background": "light"
     },
     "output_type": "display_data"
    }
   ],
   "source": [
    "plt.bar(data[data['platform']=='Wii'].groupby('year_of_release')['name'].count().index,\n",
    "        data[data['platform']=='Wii'].groupby('year_of_release')['name'].count(), color = '#EE6363')\n",
    "plt.title('Wii');"
   ]
  },
  {
   "cell_type": "code",
   "execution_count": 254,
   "metadata": {},
   "outputs": [
    {
     "data": {
      "image/png": "[encoded data removed]",
      "text/plain": [
       "<Figure size 432x288 with 1 Axes>"
      ]
     },
     "metadata": {
      "needs_background": "light"
     },
     "output_type": "display_data"
    }
   ],
   "source": [
    "plt.bar(data[data['platform']=='DS'].groupby('year_of_release')['name'].count().index,\n",
    "        data[data['platform']=='DS'].groupby('year_of_release')['name'].count(), color = '#EE6363')\n",
    "plt.title('DS');"
   ]
  },
  {
   "cell_type": "code",
   "execution_count": 255,
   "metadata": {},
   "outputs": [
    {
     "data": {
      "image/png": "[encoded data removed]",
      "text/plain": [
       "<Figure size 432x288 with 1 Axes>"
      ]
     },
     "metadata": {
      "needs_background": "light"
     },
     "output_type": "display_data"
    }
   ],
   "source": [
    "plt.bar(data[data['platform']=='PS'].groupby('year_of_release')['name'].count().index,\n",
    "        data[data['platform']=='PS'].groupby('year_of_release')['name'].count(), color = '#EE6363')\n",
    "plt.title('PS');"
   ]
  },
  {
   "cell_type": "code",
   "execution_count": 256,
   "metadata": {},
   "outputs": [
    {
     "data": {
      "image/png": "[encoded data removed]",
      "text/plain": [
       "<Figure size 432x288 with 1 Axes>"
      ]
     },
     "metadata": {
      "needs_background": "light"
     },
     "output_type": "display_data"
    }
   ],
   "source": [
    "plt.xticks([2012, 2013, 2014, 2015, 2016])\n",
    "plt.bar(data[data['platform']=='PS4'].groupby('year_of_release')['name'].count().index,\n",
    "        data[data['platform']=='PS4'].groupby('year_of_release')['name'].count(), color = '#EE6363')\n",
    "plt.title('PS4');"
   ]
  },
  {
   "cell_type": "code",
   "execution_count": 257,
   "metadata": {},
   "outputs": [
    {
     "data": {
      "image/png": "[encoded data removed]",
      "text/plain": [
       "<Figure size 432x288 with 1 Axes>"
      ]
     },
     "metadata": {
      "needs_background": "light"
     },
     "output_type": "display_data"
    }
   ],
   "source": [
    "plt.bar(data[data['platform']=='GBA'].groupby('year_of_release')['name'].count().index,\n",
    "        data[data['platform']=='GBA'].groupby('year_of_release')['name'].count(), color = '#EE6363')\n",
    "plt.title('GBA');"
   ]
  },
  {
   "cell_type": "code",
   "execution_count": 258,
   "metadata": {},
   "outputs": [
    {
     "data": {
      "image/png": "[encoded data removed]",
      "text/plain": [
       "<Figure size 432x288 with 1 Axes>"
      ]
     },
     "metadata": {
      "needs_background": "light"
     },
     "output_type": "display_data"
    }
   ],
   "source": [
    "plt.bar(data[data['platform']=='PSP'].groupby('year_of_release')['name'].count().index,\n",
    "        data[data['platform']=='PSP'].groupby('year_of_release')['name'].count(), color = '#EE6363')\n",
    "plt.title('PSP');"
   ]
  },
  {
   "cell_type": "code",
   "execution_count": 259,
   "metadata": {},
   "outputs": [
    {
     "data": {
      "image/png": "[encoded data removed]",
      "text/plain": [
       "<Figure size 432x288 with 1 Axes>"
      ]
     },
     "metadata": {
      "needs_background": "light"
     },
     "output_type": "display_data"
    }
   ],
   "source": [
    "plt.bar(data[data['platform']=='3DS'].groupby('year_of_release')['name'].count().index,\n",
    "        data[data['platform']=='3DS'].groupby('year_of_release')['name'].count(), color = '#EE6363')\n",
    "plt.title('3DS');"
   ]
  },
  {
   "cell_type": "markdown",
   "metadata": {},
   "source": [
    "Новые платформы появляются в среднем раз в 7 лет, старые исчезают в среднем за 11 лет. \n",
    "\n",
    "Актуальным периодом будем считать 2013-2016 года, так большинство платформ с самой высокой вурочкой за всё время, но с почти сошедшей на нет вуручкой к 2016 году не будут сильно влиять на статистику."
   ]
  },
  {
   "cell_type": "markdown",
   "metadata": {},
   "source": [
    "Составим рейтинг платформ по общим продажам за актуальный период времени."
   ]
  },
  {
   "cell_type": "code",
   "execution_count": 260,
   "metadata": {},
   "outputs": [
    {
     "data": {
      "text/plain": [
       "platform\n",
       "PS4     314.14\n",
       "PS3     181.43\n",
       "XOne    159.32\n",
       "3DS     143.25\n",
       "X360    136.80\n",
       "WiiU     64.63\n",
       "PC       39.43\n",
       "PSV      32.99\n",
       "Wii      13.66\n",
       "PSP       3.50\n",
       "DS        1.54\n",
       "Name: all_sales, dtype: float64"
      ]
     },
     "execution_count": 260,
     "metadata": {},
     "output_type": "execute_result"
    }
   ],
   "source": [
    "dataActual = data[data['year_of_release']>2012]\n",
    "\n",
    "dataActual.groupby('platform')['all_sales'].sum().sort_values(ascending=False)"
   ]
  },
  {
   "cell_type": "markdown",
   "metadata": {},
   "source": [
    "Посмотрим, как менялись продажи по каждой платформе в течении времени."
   ]
  },
  {
   "cell_type": "code",
   "execution_count": 261,
   "metadata": {},
   "outputs": [
    {
     "data": {
      "text/html": [
       "<div>\n",
       "<style scoped>\n",
       "    .dataframe tbody tr th:only-of-type {\n",
       "        vertical-align: middle;\n",
       "    }\n",
       "\n",
       "    .dataframe tbody tr th {\n",
       "        vertical-align: top;\n",
       "    }\n",
       "\n",
       "    .dataframe thead th {\n",
       "        text-align: right;\n",
       "    }\n",
       "</style>\n",
       "<table border=\"1\" class=\"dataframe\">\n",
       "  <thead>\n",
       "    <tr style=\"text-align: right;\">\n",
       "      <th></th>\n",
       "      <th>platform</th>\n",
       "      <th>year_of_release</th>\n",
       "      <th>all_sales</th>\n",
       "    </tr>\n",
       "  </thead>\n",
       "  <tbody>\n",
       "    <tr>\n",
       "      <th>0</th>\n",
       "      <td>3DS</td>\n",
       "      <td>2013</td>\n",
       "      <td>56.57</td>\n",
       "    </tr>\n",
       "    <tr>\n",
       "      <th>1</th>\n",
       "      <td>3DS</td>\n",
       "      <td>2014</td>\n",
       "      <td>43.76</td>\n",
       "    </tr>\n",
       "    <tr>\n",
       "      <th>2</th>\n",
       "      <td>3DS</td>\n",
       "      <td>2015</td>\n",
       "      <td>27.78</td>\n",
       "    </tr>\n",
       "    <tr>\n",
       "      <th>3</th>\n",
       "      <td>3DS</td>\n",
       "      <td>2016</td>\n",
       "      <td>15.14</td>\n",
       "    </tr>\n",
       "    <tr>\n",
       "      <th>4</th>\n",
       "      <td>DS</td>\n",
       "      <td>2013</td>\n",
       "      <td>1.54</td>\n",
       "    </tr>\n",
       "    <tr>\n",
       "      <th>5</th>\n",
       "      <td>PC</td>\n",
       "      <td>2013</td>\n",
       "      <td>12.38</td>\n",
       "    </tr>\n",
       "    <tr>\n",
       "      <th>6</th>\n",
       "      <td>PC</td>\n",
       "      <td>2014</td>\n",
       "      <td>13.28</td>\n",
       "    </tr>\n",
       "    <tr>\n",
       "      <th>7</th>\n",
       "      <td>PC</td>\n",
       "      <td>2015</td>\n",
       "      <td>8.52</td>\n",
       "    </tr>\n",
       "    <tr>\n",
       "      <th>8</th>\n",
       "      <td>PC</td>\n",
       "      <td>2016</td>\n",
       "      <td>5.25</td>\n",
       "    </tr>\n",
       "    <tr>\n",
       "      <th>9</th>\n",
       "      <td>PS3</td>\n",
       "      <td>2013</td>\n",
       "      <td>113.25</td>\n",
       "    </tr>\n",
       "    <tr>\n",
       "      <th>10</th>\n",
       "      <td>PS3</td>\n",
       "      <td>2014</td>\n",
       "      <td>47.76</td>\n",
       "    </tr>\n",
       "    <tr>\n",
       "      <th>11</th>\n",
       "      <td>PS3</td>\n",
       "      <td>2015</td>\n",
       "      <td>16.82</td>\n",
       "    </tr>\n",
       "    <tr>\n",
       "      <th>12</th>\n",
       "      <td>PS3</td>\n",
       "      <td>2016</td>\n",
       "      <td>3.60</td>\n",
       "    </tr>\n",
       "    <tr>\n",
       "      <th>13</th>\n",
       "      <td>PS4</td>\n",
       "      <td>2013</td>\n",
       "      <td>25.99</td>\n",
       "    </tr>\n",
       "    <tr>\n",
       "      <th>14</th>\n",
       "      <td>PS4</td>\n",
       "      <td>2014</td>\n",
       "      <td>100.00</td>\n",
       "    </tr>\n",
       "    <tr>\n",
       "      <th>15</th>\n",
       "      <td>PS4</td>\n",
       "      <td>2015</td>\n",
       "      <td>118.90</td>\n",
       "    </tr>\n",
       "    <tr>\n",
       "      <th>16</th>\n",
       "      <td>PS4</td>\n",
       "      <td>2016</td>\n",
       "      <td>69.25</td>\n",
       "    </tr>\n",
       "    <tr>\n",
       "      <th>17</th>\n",
       "      <td>PSP</td>\n",
       "      <td>2013</td>\n",
       "      <td>3.14</td>\n",
       "    </tr>\n",
       "    <tr>\n",
       "      <th>18</th>\n",
       "      <td>PSP</td>\n",
       "      <td>2014</td>\n",
       "      <td>0.24</td>\n",
       "    </tr>\n",
       "    <tr>\n",
       "      <th>19</th>\n",
       "      <td>PSP</td>\n",
       "      <td>2015</td>\n",
       "      <td>0.12</td>\n",
       "    </tr>\n",
       "    <tr>\n",
       "      <th>20</th>\n",
       "      <td>PSV</td>\n",
       "      <td>2013</td>\n",
       "      <td>10.59</td>\n",
       "    </tr>\n",
       "    <tr>\n",
       "      <th>21</th>\n",
       "      <td>PSV</td>\n",
       "      <td>2014</td>\n",
       "      <td>11.90</td>\n",
       "    </tr>\n",
       "    <tr>\n",
       "      <th>22</th>\n",
       "      <td>PSV</td>\n",
       "      <td>2015</td>\n",
       "      <td>6.25</td>\n",
       "    </tr>\n",
       "    <tr>\n",
       "      <th>23</th>\n",
       "      <td>PSV</td>\n",
       "      <td>2016</td>\n",
       "      <td>4.25</td>\n",
       "    </tr>\n",
       "    <tr>\n",
       "      <th>24</th>\n",
       "      <td>Wii</td>\n",
       "      <td>2013</td>\n",
       "      <td>8.59</td>\n",
       "    </tr>\n",
       "    <tr>\n",
       "      <th>25</th>\n",
       "      <td>Wii</td>\n",
       "      <td>2014</td>\n",
       "      <td>3.75</td>\n",
       "    </tr>\n",
       "    <tr>\n",
       "      <th>26</th>\n",
       "      <td>Wii</td>\n",
       "      <td>2015</td>\n",
       "      <td>1.14</td>\n",
       "    </tr>\n",
       "    <tr>\n",
       "      <th>27</th>\n",
       "      <td>Wii</td>\n",
       "      <td>2016</td>\n",
       "      <td>0.18</td>\n",
       "    </tr>\n",
       "    <tr>\n",
       "      <th>28</th>\n",
       "      <td>WiiU</td>\n",
       "      <td>2013</td>\n",
       "      <td>21.65</td>\n",
       "    </tr>\n",
       "    <tr>\n",
       "      <th>29</th>\n",
       "      <td>WiiU</td>\n",
       "      <td>2014</td>\n",
       "      <td>22.03</td>\n",
       "    </tr>\n",
       "    <tr>\n",
       "      <th>30</th>\n",
       "      <td>WiiU</td>\n",
       "      <td>2015</td>\n",
       "      <td>16.35</td>\n",
       "    </tr>\n",
       "    <tr>\n",
       "      <th>31</th>\n",
       "      <td>WiiU</td>\n",
       "      <td>2016</td>\n",
       "      <td>4.60</td>\n",
       "    </tr>\n",
       "    <tr>\n",
       "      <th>32</th>\n",
       "      <td>X360</td>\n",
       "      <td>2013</td>\n",
       "      <td>88.58</td>\n",
       "    </tr>\n",
       "    <tr>\n",
       "      <th>33</th>\n",
       "      <td>X360</td>\n",
       "      <td>2014</td>\n",
       "      <td>34.74</td>\n",
       "    </tr>\n",
       "    <tr>\n",
       "      <th>34</th>\n",
       "      <td>X360</td>\n",
       "      <td>2015</td>\n",
       "      <td>11.96</td>\n",
       "    </tr>\n",
       "    <tr>\n",
       "      <th>35</th>\n",
       "      <td>X360</td>\n",
       "      <td>2016</td>\n",
       "      <td>1.52</td>\n",
       "    </tr>\n",
       "    <tr>\n",
       "      <th>36</th>\n",
       "      <td>XOne</td>\n",
       "      <td>2013</td>\n",
       "      <td>18.96</td>\n",
       "    </tr>\n",
       "    <tr>\n",
       "      <th>37</th>\n",
       "      <td>XOne</td>\n",
       "      <td>2014</td>\n",
       "      <td>54.07</td>\n",
       "    </tr>\n",
       "    <tr>\n",
       "      <th>38</th>\n",
       "      <td>XOne</td>\n",
       "      <td>2015</td>\n",
       "      <td>60.14</td>\n",
       "    </tr>\n",
       "    <tr>\n",
       "      <th>39</th>\n",
       "      <td>XOne</td>\n",
       "      <td>2016</td>\n",
       "      <td>26.15</td>\n",
       "    </tr>\n",
       "  </tbody>\n",
       "</table>\n",
       "</div>"
      ],
      "text/plain": [
       "   platform  year_of_release  all_sales\n",
       "0       3DS             2013      56.57\n",
       "1       3DS             2014      43.76\n",
       "2       3DS             2015      27.78\n",
       "3       3DS             2016      15.14\n",
       "4        DS             2013       1.54\n",
       "5        PC             2013      12.38\n",
       "6        PC             2014      13.28\n",
       "7        PC             2015       8.52\n",
       "8        PC             2016       5.25\n",
       "9       PS3             2013     113.25\n",
       "10      PS3             2014      47.76\n",
       "11      PS3             2015      16.82\n",
       "12      PS3             2016       3.60\n",
       "13      PS4             2013      25.99\n",
       "14      PS4             2014     100.00\n",
       "15      PS4             2015     118.90\n",
       "16      PS4             2016      69.25\n",
       "17      PSP             2013       3.14\n",
       "18      PSP             2014       0.24\n",
       "19      PSP             2015       0.12\n",
       "20      PSV             2013      10.59\n",
       "21      PSV             2014      11.90\n",
       "22      PSV             2015       6.25\n",
       "23      PSV             2016       4.25\n",
       "24      Wii             2013       8.59\n",
       "25      Wii             2014       3.75\n",
       "26      Wii             2015       1.14\n",
       "27      Wii             2016       0.18\n",
       "28     WiiU             2013      21.65\n",
       "29     WiiU             2014      22.03\n",
       "30     WiiU             2015      16.35\n",
       "31     WiiU             2016       4.60\n",
       "32     X360             2013      88.58\n",
       "33     X360             2014      34.74\n",
       "34     X360             2015      11.96\n",
       "35     X360             2016       1.52\n",
       "36     XOne             2013      18.96\n",
       "37     XOne             2014      54.07\n",
       "38     XOne             2015      60.14\n",
       "39     XOne             2016      26.15"
      ]
     },
     "execution_count": 261,
     "metadata": {},
     "output_type": "execute_result"
    }
   ],
   "source": [
    "df1 = dataActual.groupby(['platform','year_of_release'])['all_sales'].sum().reset_index()\n",
    "df1"
   ]
  },
  {
   "cell_type": "code",
   "execution_count": 320,
   "metadata": {},
   "outputs": [
    {
     "data": {
      "image/png": "[encoded data removed]",
      "text/plain": [
       "<Figure size 432x288 with 1 Axes>"
      ]
     },
     "metadata": {
      "needs_background": "light"
     },
     "output_type": "display_data"
    }
   ],
   "source": [
    "#форматирование чисел на оси Х для их корректоного отображения как целых чисел\n",
    "locator = matplotlib.ticker.MultipleLocator(1) \n",
    "plt.gca().xaxis.set_major_locator(locator) \n",
    "formatter = matplotlib.ticker.StrMethodFormatter(\"{x:.0f}\")\n",
    "plt.gca().xaxis.set_major_formatter(formatter)\n",
    "\n",
    "df1[df1['platform']=='PS4'].set_index('year_of_release')['all_sales'].plot()\n",
    "plt.title('PS4');"
   ]
  },
  {
   "cell_type": "code",
   "execution_count": 321,
   "metadata": {},
   "outputs": [
    {
     "data": {
      "image/png": "[encoded data removed]",
      "text/plain": [
       "<Figure size 432x288 with 1 Axes>"
      ]
     },
     "metadata": {
      "needs_background": "light"
     },
     "output_type": "display_data"
    }
   ],
   "source": [
    "locator = matplotlib.ticker.MultipleLocator(1) \n",
    "plt.gca().xaxis.set_major_locator(locator) \n",
    "formatter = matplotlib.ticker.StrMethodFormatter(\"{x:.0f}\")\n",
    "plt.gca().xaxis.set_major_formatter(formatter)\n",
    "\n",
    "df1[df1['platform']=='PS3'].set_index('year_of_release')['all_sales'].plot()\n",
    "plt.title('PS3');"
   ]
  },
  {
   "cell_type": "code",
   "execution_count": 322,
   "metadata": {},
   "outputs": [
    {
     "data": {
      "image/png": "[encoded data removed]",
      "text/plain": [
       "<Figure size 432x288 with 1 Axes>"
      ]
     },
     "metadata": {
      "needs_background": "light"
     },
     "output_type": "display_data"
    }
   ],
   "source": [
    "locator = matplotlib.ticker.MultipleLocator(1) \n",
    "plt.gca().xaxis.set_major_locator(locator) \n",
    "formatter = matplotlib.ticker.StrMethodFormatter(\"{x:.0f}\")\n",
    "plt.gca().xaxis.set_major_formatter(formatter)\n",
    "\n",
    "df1[df1['platform']=='XOne'].set_index('year_of_release')['all_sales'].plot()\n",
    "plt.title('XOne');"
   ]
  },
  {
   "cell_type": "code",
   "execution_count": 323,
   "metadata": {},
   "outputs": [
    {
     "data": {
      "image/png": "[encoded data removed]",
      "text/plain": [
       "<Figure size 432x288 with 1 Axes>"
      ]
     },
     "metadata": {
      "needs_background": "light"
     },
     "output_type": "display_data"
    }
   ],
   "source": [
    "locator = matplotlib.ticker.MultipleLocator(1) \n",
    "plt.gca().xaxis.set_major_locator(locator) \n",
    "formatter = matplotlib.ticker.StrMethodFormatter(\"{x:.0f}\")\n",
    "plt.gca().xaxis.set_major_formatter(formatter)\n",
    "\n",
    "df1[df1['platform']=='3DS'].set_index('year_of_release')['all_sales'].plot()\n",
    "plt.title('3DS');"
   ]
  },
  {
   "cell_type": "code",
   "execution_count": 324,
   "metadata": {},
   "outputs": [
    {
     "data": {
      "image/png": "[encoded data removed]",
      "text/plain": [
       "<Figure size 432x288 with 1 Axes>"
      ]
     },
     "metadata": {
      "needs_background": "light"
     },
     "output_type": "display_data"
    }
   ],
   "source": [
    "locator = matplotlib.ticker.MultipleLocator(1) \n",
    "plt.gca().xaxis.set_major_locator(locator) \n",
    "formatter = matplotlib.ticker.StrMethodFormatter(\"{x:.0f}\")\n",
    "plt.gca().xaxis.set_major_formatter(formatter)\n",
    "\n",
    "df1[df1['platform']=='X360'].set_index('year_of_release')['all_sales'].plot()\n",
    "plt.title('X360');"
   ]
  },
  {
   "cell_type": "code",
   "execution_count": 325,
   "metadata": {},
   "outputs": [
    {
     "data": {
      "image/png": "[encoded data removed]",
      "text/plain": [
       "<Figure size 432x288 with 1 Axes>"
      ]
     },
     "metadata": {
      "needs_background": "light"
     },
     "output_type": "display_data"
    }
   ],
   "source": [
    "locator = matplotlib.ticker.MultipleLocator(1) \n",
    "plt.gca().xaxis.set_major_locator(locator) \n",
    "formatter = matplotlib.ticker.StrMethodFormatter(\"{x:.0f}\")\n",
    "plt.gca().xaxis.set_major_formatter(formatter)\n",
    "\n",
    "df1[df1['platform']=='WiiU'].set_index('year_of_release')['all_sales'].plot()\n",
    "plt.title('WiiU');"
   ]
  },
  {
   "cell_type": "markdown",
   "metadata": {},
   "source": [
    "Лидируют по продажам PS4, PS3, XOne, 3DS и X360. Однако продажи по всем падают. Потенциально наиболее прибыльные - PS4, XOne и 3DS."
   ]
  },
  {
   "cell_type": "markdown",
   "metadata": {},
   "source": [
    "Посмотрим на распределение продаж  для каждой платформы."
   ]
  },
  {
   "cell_type": "code",
   "execution_count": 328,
   "metadata": {},
   "outputs": [
    {
     "data": {
      "text/html": [
       "<div>\n",
       "<style scoped>\n",
       "    .dataframe tbody tr th:only-of-type {\n",
       "        vertical-align: middle;\n",
       "    }\n",
       "\n",
       "    .dataframe tbody tr th {\n",
       "        vertical-align: top;\n",
       "    }\n",
       "\n",
       "    .dataframe thead th {\n",
       "        text-align: right;\n",
       "    }\n",
       "</style>\n",
       "<table border=\"1\" class=\"dataframe\">\n",
       "  <thead>\n",
       "    <tr style=\"text-align: right;\">\n",
       "      <th></th>\n",
       "      <th>year_of_release</th>\n",
       "      <th>na_sales</th>\n",
       "      <th>eu_sales</th>\n",
       "      <th>jp_sales</th>\n",
       "      <th>other_sales</th>\n",
       "      <th>critic_score</th>\n",
       "      <th>user_score</th>\n",
       "      <th>all_sales</th>\n",
       "    </tr>\n",
       "  </thead>\n",
       "  <tbody>\n",
       "    <tr>\n",
       "      <th>count</th>\n",
       "      <td>392.000000</td>\n",
       "      <td>392.000000</td>\n",
       "      <td>392.000000</td>\n",
       "      <td>392.000000</td>\n",
       "      <td>392.000000</td>\n",
       "      <td>252.000000</td>\n",
       "      <td>257.000000</td>\n",
       "      <td>392.000000</td>\n",
       "    </tr>\n",
       "    <tr>\n",
       "      <th>mean</th>\n",
       "      <td>2015.145408</td>\n",
       "      <td>0.277398</td>\n",
       "      <td>0.359923</td>\n",
       "      <td>0.040714</td>\n",
       "      <td>0.123342</td>\n",
       "      <td>72.091270</td>\n",
       "      <td>6.748249</td>\n",
       "      <td>0.801378</td>\n",
       "    </tr>\n",
       "    <tr>\n",
       "      <th>std</th>\n",
       "      <td>0.868181</td>\n",
       "      <td>0.583723</td>\n",
       "      <td>0.810843</td>\n",
       "      <td>0.069101</td>\n",
       "      <td>0.254825</td>\n",
       "      <td>12.485992</td>\n",
       "      <td>1.459481</td>\n",
       "      <td>1.609456</td>\n",
       "    </tr>\n",
       "    <tr>\n",
       "      <th>min</th>\n",
       "      <td>2013.000000</td>\n",
       "      <td>0.000000</td>\n",
       "      <td>0.000000</td>\n",
       "      <td>0.000000</td>\n",
       "      <td>0.000000</td>\n",
       "      <td>19.000000</td>\n",
       "      <td>1.500000</td>\n",
       "      <td>0.010000</td>\n",
       "    </tr>\n",
       "    <tr>\n",
       "      <th>25%</th>\n",
       "      <td>2015.000000</td>\n",
       "      <td>0.007500</td>\n",
       "      <td>0.000000</td>\n",
       "      <td>0.000000</td>\n",
       "      <td>0.010000</td>\n",
       "      <td>66.000000</td>\n",
       "      <td>6.100000</td>\n",
       "      <td>0.060000</td>\n",
       "    </tr>\n",
       "    <tr>\n",
       "      <th>50%</th>\n",
       "      <td>2015.000000</td>\n",
       "      <td>0.060000</td>\n",
       "      <td>0.080000</td>\n",
       "      <td>0.010000</td>\n",
       "      <td>0.030000</td>\n",
       "      <td>73.000000</td>\n",
       "      <td>7.000000</td>\n",
       "      <td>0.200000</td>\n",
       "    </tr>\n",
       "    <tr>\n",
       "      <th>75%</th>\n",
       "      <td>2016.000000</td>\n",
       "      <td>0.260000</td>\n",
       "      <td>0.300000</td>\n",
       "      <td>0.050000</td>\n",
       "      <td>0.110000</td>\n",
       "      <td>80.000000</td>\n",
       "      <td>7.800000</td>\n",
       "      <td>0.730000</td>\n",
       "    </tr>\n",
       "    <tr>\n",
       "      <th>max</th>\n",
       "      <td>2016.000000</td>\n",
       "      <td>6.030000</td>\n",
       "      <td>6.310000</td>\n",
       "      <td>0.490000</td>\n",
       "      <td>2.380000</td>\n",
       "      <td>97.000000</td>\n",
       "      <td>9.200000</td>\n",
       "      <td>14.630000</td>\n",
       "    </tr>\n",
       "  </tbody>\n",
       "</table>\n",
       "</div>"
      ],
      "text/plain": [
       "       year_of_release    na_sales    eu_sales    jp_sales  other_sales  \\\n",
       "count       392.000000  392.000000  392.000000  392.000000   392.000000   \n",
       "mean       2015.145408    0.277398    0.359923    0.040714     0.123342   \n",
       "std           0.868181    0.583723    0.810843    0.069101     0.254825   \n",
       "min        2013.000000    0.000000    0.000000    0.000000     0.000000   \n",
       "25%        2015.000000    0.007500    0.000000    0.000000     0.010000   \n",
       "50%        2015.000000    0.060000    0.080000    0.010000     0.030000   \n",
       "75%        2016.000000    0.260000    0.300000    0.050000     0.110000   \n",
       "max        2016.000000    6.030000    6.310000    0.490000     2.380000   \n",
       "\n",
       "       critic_score  user_score   all_sales  \n",
       "count    252.000000  257.000000  392.000000  \n",
       "mean      72.091270    6.748249    0.801378  \n",
       "std       12.485992    1.459481    1.609456  \n",
       "min       19.000000    1.500000    0.010000  \n",
       "25%       66.000000    6.100000    0.060000  \n",
       "50%       73.000000    7.000000    0.200000  \n",
       "75%       80.000000    7.800000    0.730000  \n",
       "max       97.000000    9.200000   14.630000  "
      ]
     },
     "execution_count": 328,
     "metadata": {},
     "output_type": "execute_result"
    },
    {
     "data": {
      "image/png": "[encoded data removed]",
      "text/plain": [
       "<Figure size 432x288 with 1 Axes>"
      ]
     },
     "metadata": {
      "needs_background": "light"
     },
     "output_type": "display_data"
    }
   ],
   "source": [
    "plt.ylim(0, 2)\n",
    "plt.title('PS4')\n",
    "dataActual[dataActual['platform']=='PS4'].boxplot('all_sales')\n",
    "dataActual[dataActual['platform']=='PS4'].describe()"
   ]
  },
  {
   "cell_type": "code",
   "execution_count": 329,
   "metadata": {},
   "outputs": [
    {
     "data": {
      "text/html": [
       "<div>\n",
       "<style scoped>\n",
       "    .dataframe tbody tr th:only-of-type {\n",
       "        vertical-align: middle;\n",
       "    }\n",
       "\n",
       "    .dataframe tbody tr th {\n",
       "        vertical-align: top;\n",
       "    }\n",
       "\n",
       "    .dataframe thead th {\n",
       "        text-align: right;\n",
       "    }\n",
       "</style>\n",
       "<table border=\"1\" class=\"dataframe\">\n",
       "  <thead>\n",
       "    <tr style=\"text-align: right;\">\n",
       "      <th></th>\n",
       "      <th>year_of_release</th>\n",
       "      <th>na_sales</th>\n",
       "      <th>eu_sales</th>\n",
       "      <th>jp_sales</th>\n",
       "      <th>other_sales</th>\n",
       "      <th>critic_score</th>\n",
       "      <th>user_score</th>\n",
       "      <th>all_sales</th>\n",
       "    </tr>\n",
       "  </thead>\n",
       "  <tbody>\n",
       "    <tr>\n",
       "      <th>count</th>\n",
       "      <td>247.000000</td>\n",
       "      <td>247.000000</td>\n",
       "      <td>247.000000</td>\n",
       "      <td>247.000000</td>\n",
       "      <td>247.000000</td>\n",
       "      <td>169.000000</td>\n",
       "      <td>182.000000</td>\n",
       "      <td>247.000000</td>\n",
       "    </tr>\n",
       "    <tr>\n",
       "      <th>mean</th>\n",
       "      <td>2014.951417</td>\n",
       "      <td>0.377004</td>\n",
       "      <td>0.208866</td>\n",
       "      <td>0.001377</td>\n",
       "      <td>0.057773</td>\n",
       "      <td>73.325444</td>\n",
       "      <td>6.521429</td>\n",
       "      <td>0.645020</td>\n",
       "    </tr>\n",
       "    <tr>\n",
       "      <th>std</th>\n",
       "      <td>0.952995</td>\n",
       "      <td>0.630618</td>\n",
       "      <td>0.365306</td>\n",
       "      <td>0.005153</td>\n",
       "      <td>0.094221</td>\n",
       "      <td>12.953465</td>\n",
       "      <td>1.380941</td>\n",
       "      <td>1.036139</td>\n",
       "    </tr>\n",
       "    <tr>\n",
       "      <th>min</th>\n",
       "      <td>2013.000000</td>\n",
       "      <td>0.000000</td>\n",
       "      <td>0.000000</td>\n",
       "      <td>0.000000</td>\n",
       "      <td>0.000000</td>\n",
       "      <td>20.000000</td>\n",
       "      <td>1.600000</td>\n",
       "      <td>0.010000</td>\n",
       "    </tr>\n",
       "    <tr>\n",
       "      <th>25%</th>\n",
       "      <td>2014.000000</td>\n",
       "      <td>0.030000</td>\n",
       "      <td>0.020000</td>\n",
       "      <td>0.000000</td>\n",
       "      <td>0.010000</td>\n",
       "      <td>66.000000</td>\n",
       "      <td>5.800000</td>\n",
       "      <td>0.060000</td>\n",
       "    </tr>\n",
       "    <tr>\n",
       "      <th>50%</th>\n",
       "      <td>2015.000000</td>\n",
       "      <td>0.120000</td>\n",
       "      <td>0.070000</td>\n",
       "      <td>0.000000</td>\n",
       "      <td>0.020000</td>\n",
       "      <td>76.000000</td>\n",
       "      <td>6.800000</td>\n",
       "      <td>0.220000</td>\n",
       "    </tr>\n",
       "    <tr>\n",
       "      <th>75%</th>\n",
       "      <td>2016.000000</td>\n",
       "      <td>0.385000</td>\n",
       "      <td>0.220000</td>\n",
       "      <td>0.000000</td>\n",
       "      <td>0.060000</td>\n",
       "      <td>82.000000</td>\n",
       "      <td>7.500000</td>\n",
       "      <td>0.685000</td>\n",
       "    </tr>\n",
       "    <tr>\n",
       "      <th>max</th>\n",
       "      <td>2016.000000</td>\n",
       "      <td>4.590000</td>\n",
       "      <td>2.190000</td>\n",
       "      <td>0.040000</td>\n",
       "      <td>0.680000</td>\n",
       "      <td>97.000000</td>\n",
       "      <td>9.200000</td>\n",
       "      <td>7.390000</td>\n",
       "    </tr>\n",
       "  </tbody>\n",
       "</table>\n",
       "</div>"
      ],
      "text/plain": [
       "       year_of_release    na_sales    eu_sales    jp_sales  other_sales  \\\n",
       "count       247.000000  247.000000  247.000000  247.000000   247.000000   \n",
       "mean       2014.951417    0.377004    0.208866    0.001377     0.057773   \n",
       "std           0.952995    0.630618    0.365306    0.005153     0.094221   \n",
       "min        2013.000000    0.000000    0.000000    0.000000     0.000000   \n",
       "25%        2014.000000    0.030000    0.020000    0.000000     0.010000   \n",
       "50%        2015.000000    0.120000    0.070000    0.000000     0.020000   \n",
       "75%        2016.000000    0.385000    0.220000    0.000000     0.060000   \n",
       "max        2016.000000    4.590000    2.190000    0.040000     0.680000   \n",
       "\n",
       "       critic_score  user_score   all_sales  \n",
       "count    169.000000  182.000000  247.000000  \n",
       "mean      73.325444    6.521429    0.645020  \n",
       "std       12.953465    1.380941    1.036139  \n",
       "min       20.000000    1.600000    0.010000  \n",
       "25%       66.000000    5.800000    0.060000  \n",
       "50%       76.000000    6.800000    0.220000  \n",
       "75%       82.000000    7.500000    0.685000  \n",
       "max       97.000000    9.200000    7.390000  "
      ]
     },
     "execution_count": 329,
     "metadata": {},
     "output_type": "execute_result"
    },
    {
     "data": {
      "image/png": "[encoded data removed]",
      "text/plain": [
       "<Figure size 432x288 with 1 Axes>"
      ]
     },
     "metadata": {
      "needs_background": "light"
     },
     "output_type": "display_data"
    }
   ],
   "source": [
    "plt.ylim(0, 2)\n",
    "plt.title('XOne')\n",
    "dataActual[dataActual['platform']=='XOne'].boxplot('all_sales')\n",
    "dataActual[dataActual['platform']=='XOne'].describe()"
   ]
  },
  {
   "cell_type": "code",
   "execution_count": 330,
   "metadata": {},
   "outputs": [
    {
     "data": {
      "text/html": [
       "<div>\n",
       "<style scoped>\n",
       "    .dataframe tbody tr th:only-of-type {\n",
       "        vertical-align: middle;\n",
       "    }\n",
       "\n",
       "    .dataframe tbody tr th {\n",
       "        vertical-align: top;\n",
       "    }\n",
       "\n",
       "    .dataframe thead th {\n",
       "        text-align: right;\n",
       "    }\n",
       "</style>\n",
       "<table border=\"1\" class=\"dataframe\">\n",
       "  <thead>\n",
       "    <tr style=\"text-align: right;\">\n",
       "      <th></th>\n",
       "      <th>year_of_release</th>\n",
       "      <th>na_sales</th>\n",
       "      <th>eu_sales</th>\n",
       "      <th>jp_sales</th>\n",
       "      <th>other_sales</th>\n",
       "      <th>critic_score</th>\n",
       "      <th>user_score</th>\n",
       "      <th>all_sales</th>\n",
       "    </tr>\n",
       "  </thead>\n",
       "  <tbody>\n",
       "    <tr>\n",
       "      <th>count</th>\n",
       "      <td>303.000000</td>\n",
       "      <td>303.000000</td>\n",
       "      <td>303.000000</td>\n",
       "      <td>303.000000</td>\n",
       "      <td>303.000000</td>\n",
       "      <td>71.000000</td>\n",
       "      <td>80.000000</td>\n",
       "      <td>303.000000</td>\n",
       "    </tr>\n",
       "    <tr>\n",
       "      <th>mean</th>\n",
       "      <td>2014.287129</td>\n",
       "      <td>0.126073</td>\n",
       "      <td>0.102178</td>\n",
       "      <td>0.223795</td>\n",
       "      <td>0.020726</td>\n",
       "      <td>68.338028</td>\n",
       "      <td>6.976250</td>\n",
       "      <td>0.472772</td>\n",
       "    </tr>\n",
       "    <tr>\n",
       "      <th>std</th>\n",
       "      <td>1.054821</td>\n",
       "      <td>0.499331</td>\n",
       "      <td>0.381832</td>\n",
       "      <td>0.566661</td>\n",
       "      <td>0.078509</td>\n",
       "      <td>13.093012</td>\n",
       "      <td>1.538884</td>\n",
       "      <td>1.381347</td>\n",
       "    </tr>\n",
       "    <tr>\n",
       "      <th>min</th>\n",
       "      <td>2013.000000</td>\n",
       "      <td>0.000000</td>\n",
       "      <td>0.000000</td>\n",
       "      <td>0.000000</td>\n",
       "      <td>0.000000</td>\n",
       "      <td>26.000000</td>\n",
       "      <td>2.400000</td>\n",
       "      <td>0.010000</td>\n",
       "    </tr>\n",
       "    <tr>\n",
       "      <th>25%</th>\n",
       "      <td>2013.000000</td>\n",
       "      <td>0.000000</td>\n",
       "      <td>0.000000</td>\n",
       "      <td>0.010000</td>\n",
       "      <td>0.000000</td>\n",
       "      <td>61.000000</td>\n",
       "      <td>6.300000</td>\n",
       "      <td>0.040000</td>\n",
       "    </tr>\n",
       "    <tr>\n",
       "      <th>50%</th>\n",
       "      <td>2014.000000</td>\n",
       "      <td>0.000000</td>\n",
       "      <td>0.000000</td>\n",
       "      <td>0.060000</td>\n",
       "      <td>0.000000</td>\n",
       "      <td>69.000000</td>\n",
       "      <td>7.300000</td>\n",
       "      <td>0.090000</td>\n",
       "    </tr>\n",
       "    <tr>\n",
       "      <th>75%</th>\n",
       "      <td>2015.000000</td>\n",
       "      <td>0.050000</td>\n",
       "      <td>0.040000</td>\n",
       "      <td>0.145000</td>\n",
       "      <td>0.010000</td>\n",
       "      <td>78.500000</td>\n",
       "      <td>8.200000</td>\n",
       "      <td>0.280000</td>\n",
       "    </tr>\n",
       "    <tr>\n",
       "      <th>max</th>\n",
       "      <td>2016.000000</td>\n",
       "      <td>5.280000</td>\n",
       "      <td>4.190000</td>\n",
       "      <td>4.350000</td>\n",
       "      <td>0.780000</td>\n",
       "      <td>91.000000</td>\n",
       "      <td>9.000000</td>\n",
       "      <td>14.600000</td>\n",
       "    </tr>\n",
       "  </tbody>\n",
       "</table>\n",
       "</div>"
      ],
      "text/plain": [
       "       year_of_release    na_sales    eu_sales    jp_sales  other_sales  \\\n",
       "count       303.000000  303.000000  303.000000  303.000000   303.000000   \n",
       "mean       2014.287129    0.126073    0.102178    0.223795     0.020726   \n",
       "std           1.054821    0.499331    0.381832    0.566661     0.078509   \n",
       "min        2013.000000    0.000000    0.000000    0.000000     0.000000   \n",
       "25%        2013.000000    0.000000    0.000000    0.010000     0.000000   \n",
       "50%        2014.000000    0.000000    0.000000    0.060000     0.000000   \n",
       "75%        2015.000000    0.050000    0.040000    0.145000     0.010000   \n",
       "max        2016.000000    5.280000    4.190000    4.350000     0.780000   \n",
       "\n",
       "       critic_score  user_score   all_sales  \n",
       "count     71.000000   80.000000  303.000000  \n",
       "mean      68.338028    6.976250    0.472772  \n",
       "std       13.093012    1.538884    1.381347  \n",
       "min       26.000000    2.400000    0.010000  \n",
       "25%       61.000000    6.300000    0.040000  \n",
       "50%       69.000000    7.300000    0.090000  \n",
       "75%       78.500000    8.200000    0.280000  \n",
       "max       91.000000    9.000000   14.600000  "
      ]
     },
     "execution_count": 330,
     "metadata": {},
     "output_type": "execute_result"
    },
    {
     "data": {
      "image/png": "[encoded data removed]",
      "text/plain": [
       "<Figure size 432x288 with 1 Axes>"
      ]
     },
     "metadata": {
      "needs_background": "light"
     },
     "output_type": "display_data"
    }
   ],
   "source": [
    "plt.ylim(0, 1)\n",
    "plt.title('3DS')\n",
    "dataActual[dataActual['platform']=='3DS'].boxplot('all_sales')\n",
    "dataActual[dataActual['platform']=='3DS'].describe()"
   ]
  },
  {
   "cell_type": "code",
   "execution_count": 272,
   "metadata": {},
   "outputs": [
    {
     "data": {
      "image/png": "[encoded data removed]",
      "text/plain": [
       "<Figure size 1296x576 with 1 Axes>"
      ]
     },
     "metadata": {
      "needs_background": "light"
     },
     "output_type": "display_data"
    }
   ],
   "source": [
    "act_platforms= dataActual.groupby('platform')['all_sales'].sum().sort_values(ascending=False).index.values\n",
    "plt.figure(figsize=(18, 8))\n",
    "sns.boxplot(x=\"platform\", y=\"all_sales\", data=data[data.platform.isin(act_platforms)], orient=\"v\", showfliers=False)\n",
    "plt.title('Глобальные продажи игр разным платформом в 2013-2016 годах') \n",
    "plt.ylabel('Продажи')\n",
    "plt.xlabel('Платформа')\n",
    "plt.show()"
   ]
  },
  {
   "cell_type": "markdown",
   "metadata": {},
   "source": [
    "Средняя выручка PS4 ~0.8 млн., XOne - 0.64 млн., 3DS - 0.47млн.. Медианная выручка PS4 - 0.2 млн., XOne - 0.22 млн., 3DS - 0.09млн.. "
   ]
  },
  {
   "cell_type": "markdown",
   "metadata": {},
   "source": [
    "Оценим корреляции между продажами и оценкой критиков, а также между продажами и пользовательской оценкой для каждой платформы."
   ]
  },
  {
   "cell_type": "code",
   "execution_count": 332,
   "metadata": {},
   "outputs": [
    {
     "data": {
      "text/plain": [
       "0.406567902061781"
      ]
     },
     "execution_count": 332,
     "metadata": {},
     "output_type": "execute_result"
    },
    {
     "data": {
      "image/png": "[encoded data removed]",
      "text/plain": [
       "<Figure size 432x288 with 1 Axes>"
      ]
     },
     "metadata": {
      "needs_background": "light"
     },
     "output_type": "display_data"
    }
   ],
   "source": [
    "dataActual[dataActual['platform']=='PS4'].plot(x='critic_score', y='all_sales', kind='scatter', alpha=0.3)\n",
    "plt.title('PS4')\n",
    "dataActual[dataActual['platform']=='PS4']['all_sales'].corr(df[df['platform']=='PS4']['critic_score'])"
   ]
  },
  {
   "cell_type": "code",
   "execution_count": 333,
   "metadata": {},
   "outputs": [
    {
     "data": {
      "text/plain": [
       "-0.031957110204556424"
      ]
     },
     "execution_count": 333,
     "metadata": {},
     "output_type": "execute_result"
    },
    {
     "data": {
      "image/png": "[encoded data removed]",
      "text/plain": [
       "<Figure size 432x288 with 1 Axes>"
      ]
     },
     "metadata": {
      "needs_background": "light"
     },
     "output_type": "display_data"
    }
   ],
   "source": [
    "dataActual[dataActual['platform']=='PS4'].plot(x='user_score', y='all_sales', kind='scatter', alpha=0.3)\n",
    "plt.title('PS4')\n",
    "dataActual[dataActual['platform']=='PS4']['all_sales'].corr(df[df['platform']=='PS4']['user_score'])"
   ]
  },
  {
   "cell_type": "code",
   "execution_count": 334,
   "metadata": {},
   "outputs": [
    {
     "data": {
      "text/plain": [
       "0.41699832800840175"
      ]
     },
     "execution_count": 334,
     "metadata": {},
     "output_type": "execute_result"
    },
    {
     "data": {
      "image/png": "[encoded data removed]",
      "text/plain": [
       "<Figure size 432x288 with 1 Axes>"
      ]
     },
     "metadata": {
      "needs_background": "light"
     },
     "output_type": "display_data"
    }
   ],
   "source": [
    "dataActual[dataActual['platform']=='XOne'].plot(x='critic_score', y='all_sales', kind='scatter', alpha=0.3)\n",
    "plt.title('XOne')\n",
    "dataActual[dataActual['platform']=='XOne']['all_sales'].corr(df[df['platform']=='XOne']['critic_score'])"
   ]
  },
  {
   "cell_type": "code",
   "execution_count": 335,
   "metadata": {},
   "outputs": [
    {
     "data": {
      "text/plain": [
       "-0.06892505328279412"
      ]
     },
     "execution_count": 335,
     "metadata": {},
     "output_type": "execute_result"
    },
    {
     "data": {
      "image/png": "[encoded data removed]",
      "text/plain": [
       "<Figure size 432x288 with 1 Axes>"
      ]
     },
     "metadata": {
      "needs_background": "light"
     },
     "output_type": "display_data"
    }
   ],
   "source": [
    "dataActual[dataActual['platform']=='XOne'].plot(x='user_score', y='all_sales', kind='scatter', alpha=0.3)\n",
    "plt.title('XOne')\n",
    "dataActual[dataActual['platform']=='XOne']['all_sales'].corr(df[df['platform']=='XOne']['user_score'])"
   ]
  },
  {
   "cell_type": "code",
   "execution_count": 336,
   "metadata": {},
   "outputs": [
    {
     "data": {
      "text/plain": [
       "0.35705661422881035"
      ]
     },
     "execution_count": 336,
     "metadata": {},
     "output_type": "execute_result"
    },
    {
     "data": {
      "image/png": "[encoded data removed]",
      "text/plain": [
       "<Figure size 432x288 with 1 Axes>"
      ]
     },
     "metadata": {
      "needs_background": "light"
     },
     "output_type": "display_data"
    }
   ],
   "source": [
    "dataActual[dataActual['platform']=='3DS'].plot(x='critic_score', y='all_sales', kind='scatter', alpha=0.3)\n",
    "plt.title('3DS')\n",
    "dataActual[dataActual['platform']=='3DS']['all_sales'].corr(df[df['platform']=='3DS']['critic_score'])"
   ]
  },
  {
   "cell_type": "code",
   "execution_count": 337,
   "metadata": {},
   "outputs": [
    {
     "data": {
      "text/plain": [
       "0.24150411773563016"
      ]
     },
     "execution_count": 337,
     "metadata": {},
     "output_type": "execute_result"
    },
    {
     "data": {
      "image/png": "[encoded data removed]",
      "text/plain": [
       "<Figure size 432x288 with 1 Axes>"
      ]
     },
     "metadata": {
      "needs_background": "light"
     },
     "output_type": "display_data"
    }
   ],
   "source": [
    "dataActual[dataActual['platform']=='3DS'].plot(x='user_score', y='all_sales', kind='scatter', alpha=0.3)\n",
    "plt.title('3DS')\n",
    "dataActual[dataActual['platform']=='3DS']['all_sales'].corr(df[df['platform']=='3DS']['user_score'])"
   ]
  },
  {
   "cell_type": "markdown",
   "metadata": {},
   "source": [
    "Корреляция между продажами и пользовательской оценкой отсутствует, либо незначительна. Шанс получить наибольшую прибыль есть только у игр с оценками критиков 70-100, в остальном же корреляция между продажами и оценкой критиков очень слабая."
   ]
  },
  {
   "cell_type": "markdown",
   "metadata": {},
   "source": [
    "Посмотрим на общее распределение игр по жанрам"
   ]
  },
  {
   "cell_type": "code",
   "execution_count": 280,
   "metadata": {},
   "outputs": [
    {
     "data": {
      "text/plain": [
       "genre\n",
       "Shooter         1.245882\n",
       "Sports          0.703972\n",
       "Platform        0.576081\n",
       "Role-Playing    0.499623\n",
       "Racing          0.469294\n",
       "Fighting        0.441375\n",
       "Action          0.420196\n",
       "Misc            0.405290\n",
       "Simulation      0.350968\n",
       "Puzzle          0.186471\n",
       "Strategy        0.180000\n",
       "Adventure       0.096490\n",
       "Name: all_sales, dtype: float64"
      ]
     },
     "execution_count": 280,
     "metadata": {},
     "output_type": "execute_result"
    }
   ],
   "source": [
    "dataActual.groupby('genre')['all_sales'].mean().sort_values(ascending=False)"
   ]
  },
  {
   "cell_type": "code",
   "execution_count": 281,
   "metadata": {},
   "outputs": [
    {
     "data": {
      "text/plain": [
       "genre\n",
       "Action          321.87\n",
       "Shooter         232.98\n",
       "Sports          150.65\n",
       "Role-Playing    145.89\n",
       "Misc             62.82\n",
       "Platform         42.63\n",
       "Racing           39.89\n",
       "Fighting         35.31\n",
       "Adventure        23.64\n",
       "Simulation       21.76\n",
       "Strategy         10.08\n",
       "Puzzle            3.17\n",
       "Name: all_sales, dtype: float64"
      ]
     },
     "execution_count": 281,
     "metadata": {},
     "output_type": "execute_result"
    }
   ],
   "source": [
    "dataActual.groupby('genre')['all_sales'].sum().sort_values(ascending=False)"
   ]
  },
  {
   "cell_type": "code",
   "execution_count": 282,
   "metadata": {},
   "outputs": [
    {
     "data": {
      "text/plain": [
       "genre\n",
       "Action          766\n",
       "Role-Playing    292\n",
       "Adventure       245\n",
       "Sports          214\n",
       "Shooter         187\n",
       "Misc            155\n",
       "Racing           85\n",
       "Fighting         80\n",
       "Platform         74\n",
       "Simulation       62\n",
       "Strategy         56\n",
       "Puzzle           17\n",
       "Name: all_sales, dtype: int64"
      ]
     },
     "execution_count": 282,
     "metadata": {},
     "output_type": "execute_result"
    }
   ],
   "source": [
    "dataActual.groupby('genre')['all_sales'].count().sort_values(ascending=False)\n"
   ]
  },
  {
   "cell_type": "markdown",
   "metadata": {},
   "source": [
    "Наиболее прибыльный жанр - Shooter. Наименее прибыльный жанр - Adventure. Наиболее популярный - Action, наименее популярный - Puzzle."
   ]
  },
  {
   "cell_type": "markdown",
   "metadata": {},
   "source": [
    "### Вывод"
   ]
  },
  {
   "cell_type": "markdown",
   "metadata": {},
   "source": [
    "Актуальным периодом выбран 2013-2016 г.г. Наибольшая суммарная прибыль у платформ PS4(314.14млн.), PS3(181.43млн.), XOne(159.32млн.), 3DS(143.25млн.), X360(136.80млн.). Потенциально наиболее прибыльные - PS4, XOne и 3DS. Средняя выручка PS4 ~0.8 млн., XOne - 0.64 млн., 3DS - 0.47млн.. Медианная выручка PS4 - 0.2 млн., XOne - 0.22 млн., 3DS - 0.09млн.. Значимая корреляция между продажами и оценками отсутствует, однако получение сверхвыручки наиболее вероятно при высоких оценках критиков. Наиболее прибыльный жанр - Shooter(1.24млн. средняя выручка). Наименее прибыльный жанр - Adventure(0.096млн. средняя выручка). Самый распространённый и прибыльный жанр - Action(766 игр с сумарной прибылью в 321.87 млн.)"
   ]
  },
  {
   "cell_type": "markdown",
   "metadata": {},
   "source": [
    "## Портрет пользователя"
   ]
  },
  {
   "cell_type": "markdown",
   "metadata": {},
   "source": [
    "Самые популярные платформы по регионам."
   ]
  },
  {
   "cell_type": "code",
   "execution_count": 283,
   "metadata": {},
   "outputs": [
    {
     "data": {
      "text/plain": [
       "platform\n",
       "PS4     108.74\n",
       "XOne     93.12\n",
       "X360     81.66\n",
       "PS3      63.50\n",
       "3DS      38.20\n",
       "Name: na_sales, dtype: float64"
      ]
     },
     "execution_count": 283,
     "metadata": {},
     "output_type": "execute_result"
    }
   ],
   "source": [
    "dataActual.groupby('platform')['na_sales'].sum().sort_values(ascending=False).head()"
   ]
  },
  {
   "cell_type": "code",
   "execution_count": 284,
   "metadata": {},
   "outputs": [
    {
     "data": {
      "text/plain": [
       "platform\n",
       "PS4     141.09\n",
       "PS3      67.81\n",
       "XOne     51.59\n",
       "X360     42.52\n",
       "3DS      30.96\n",
       "Name: eu_sales, dtype: float64"
      ]
     },
     "execution_count": 284,
     "metadata": {},
     "output_type": "execute_result"
    }
   ],
   "source": [
    "dataActual.groupby('platform')['eu_sales'].sum().sort_values(ascending=False).head()"
   ]
  },
  {
   "cell_type": "code",
   "execution_count": 285,
   "metadata": {},
   "outputs": [
    {
     "data": {
      "text/plain": [
       "platform\n",
       "3DS     67.81\n",
       "PS3     23.35\n",
       "PSV     18.59\n",
       "PS4     15.96\n",
       "WiiU    10.88\n",
       "Name: jp_sales, dtype: float64"
      ]
     },
     "execution_count": 285,
     "metadata": {},
     "output_type": "execute_result"
    }
   ],
   "source": [
    "dataActual.groupby('platform')['jp_sales'].sum().sort_values(ascending=False).head()"
   ]
  },
  {
   "cell_type": "markdown",
   "metadata": {},
   "source": [
    "Самые популярные жанры"
   ]
  },
  {
   "cell_type": "code",
   "execution_count": 286,
   "metadata": {},
   "outputs": [
    {
     "data": {
      "text/plain": [
       "genre\n",
       "Action          126.05\n",
       "Shooter         109.74\n",
       "Sports           65.27\n",
       "Role-Playing     46.40\n",
       "Misc             27.49\n",
       "Name: na_sales, dtype: float64"
      ]
     },
     "execution_count": 286,
     "metadata": {},
     "output_type": "execute_result"
    }
   ],
   "source": [
    "dataActual.groupby('genre')['na_sales'].sum().sort_values(ascending=False).head()"
   ]
  },
  {
   "cell_type": "code",
   "execution_count": 287,
   "metadata": {},
   "outputs": [
    {
     "data": {
      "text/plain": [
       "genre\n",
       "Action          118.13\n",
       "Shooter          87.86\n",
       "Sports           60.52\n",
       "Role-Playing     36.97\n",
       "Racing           20.19\n",
       "Name: eu_sales, dtype: float64"
      ]
     },
     "execution_count": 287,
     "metadata": {},
     "output_type": "execute_result"
    }
   ],
   "source": [
    "dataActual.groupby('genre')['eu_sales'].sum().sort_values(ascending=False).head()"
   ]
  },
  {
   "cell_type": "code",
   "execution_count": 288,
   "metadata": {},
   "outputs": [
    {
     "data": {
      "text/plain": [
       "genre\n",
       "Role-Playing    51.04\n",
       "Action          40.49\n",
       "Misc             9.20\n",
       "Fighting         7.65\n",
       "Shooter          6.61\n",
       "Name: jp_sales, dtype: float64"
      ]
     },
     "execution_count": 288,
     "metadata": {},
     "output_type": "execute_result"
    }
   ],
   "source": [
    "dataActual.groupby('genre')['jp_sales'].sum().sort_values(ascending=False).head()"
   ]
  },
  {
   "cell_type": "markdown",
   "metadata": {},
   "source": [
    "Рейтинг ESRB"
   ]
  },
  {
   "cell_type": "code",
   "execution_count": 289,
   "metadata": {},
   "outputs": [
    {
     "data": {
      "text/plain": [
       "rating\n",
       "M            165.21\n",
       "undefined     89.42\n",
       "E             79.05\n",
       "E10+          54.24\n",
       "T             49.79\n",
       "Name: na_sales, dtype: float64"
      ]
     },
     "execution_count": 289,
     "metadata": {},
     "output_type": "execute_result"
    }
   ],
   "source": [
    "dataActual.groupby('rating')['na_sales'].sum().sort_values(ascending=False)"
   ]
  },
  {
   "cell_type": "code",
   "execution_count": 290,
   "metadata": {},
   "outputs": [
    {
     "data": {
      "text/plain": [
       "rating\n",
       "M            145.32\n",
       "E             83.36\n",
       "undefined     78.91\n",
       "E10+          42.69\n",
       "T             41.95\n",
       "Name: eu_sales, dtype: float64"
      ]
     },
     "execution_count": 290,
     "metadata": {},
     "output_type": "execute_result"
    }
   ],
   "source": [
    "dataActual.groupby('rating')['eu_sales'].sum().sort_values(ascending=False)"
   ]
  },
  {
   "cell_type": "code",
   "execution_count": 291,
   "metadata": {},
   "outputs": [
    {
     "data": {
      "text/plain": [
       "rating\n",
       "undefined    85.05\n",
       "T            20.59\n",
       "E            15.14\n",
       "M            14.11\n",
       "E10+          5.89\n",
       "Name: jp_sales, dtype: float64"
      ]
     },
     "execution_count": 291,
     "metadata": {},
     "output_type": "execute_result"
    }
   ],
   "source": [
    "dataActual.groupby('rating')['jp_sales'].sum().sort_values(ascending=False)"
   ]
  },
  {
   "cell_type": "markdown",
   "metadata": {},
   "source": [
    "### Вывод"
   ]
  },
  {
   "cell_type": "markdown",
   "metadata": {},
   "source": [
    "Североамериканский пользователь предпочитает жанры Action и Shooter на платформе PS4, с возрастным рейтингом M. Европейский пользователь предпочитает жанр Action на платформе PS4, с возрастным рейтингом M. Японский пользователь предпочитает жанры Role-Playing и Action на платформе 3DS, с неизвестным возрастным рейтингом."
   ]
  },
  {
   "cell_type": "markdown",
   "metadata": {},
   "source": [
    "## Проверка гипотез"
   ]
  },
  {
   "cell_type": "markdown",
   "metadata": {},
   "source": [
    "Нулевая гипотеза H₀ - средние пользовательские рейтинги платформ Xbox One и PC одинаковые.\n",
    "\n",
    "Альтернативная гипотеза H₁ - средние пользовательские рейтинги платформ Xbox One и PC разные."
   ]
  },
  {
   "cell_type": "code",
   "execution_count": 292,
   "metadata": {},
   "outputs": [
    {
     "name": "stdout",
     "output_type": "stream",
     "text": [
      "p-значение: 0.1401265840361139\n",
      "Не получилось отвергнуть нулевую гипотезу\n"
     ]
    }
   ],
   "source": [
    "alpha = 0.05 \n",
    "\n",
    "results = st.ttest_ind(dataActual[dataActual['platform']=='XOne']['user_score'], \n",
    "                       dataActual[dataActual['platform']=='PC']['user_score'], \n",
    "                       nan_policy='omit')\n",
    "\n",
    "print('p-значение:', results.pvalue)\n",
    "\n",
    "if results.pvalue < alpha:\n",
    "    print('Отвергаем нулевую гипотезу')\n",
    "else:\n",
    "    print('Не получилось отвергнуть нулевую гипотезу') "
   ]
  },
  {
   "cell_type": "markdown",
   "metadata": {},
   "source": [
    "Нулевая гипотеза H₀ - средние пользовательские рейтинги жанров Action и Sports одинаковые.\n",
    "\n",
    "Альтернативная гипотеза H₁ - средние пользовательские рейтинги жанров Action и Sports разные."
   ]
  },
  {
   "cell_type": "code",
   "execution_count": 293,
   "metadata": {},
   "outputs": [
    {
     "name": "stdout",
     "output_type": "stream",
     "text": [
      "p-значение: 1.0517832389142297e-27\n",
      "Отвергаем нулевую гипотезу, альтернативную гипотезу отвергнуть не получилось\n"
     ]
    }
   ],
   "source": [
    "results = st.ttest_ind(dataActual[dataActual['genre']=='Action']['user_score'], \n",
    "                       dataActual[dataActual['genre']=='Sports']['user_score'], \n",
    "                       nan_policy='omit')\n",
    "\n",
    "\n",
    "print('p-значение:', results.pvalue)\n",
    "\n",
    "if results.pvalue < alpha:\n",
    "    print('Отвергаем нулевую гипотезу, альтернативную гипотезу отвергнуть не получилось')\n",
    "else:\n",
    "    print('Не получилось отвергнуть нулевую гипотезу, отвергаем альтернативную гипотезу') "
   ]
  },
  {
   "cell_type": "markdown",
   "metadata": {},
   "source": [
    "## Общий вывод"
   ]
  },
  {
   "cell_type": "markdown",
   "metadata": {},
   "source": [
    "Наиболее популярные платформы за актуальный срок - PS4, PS3, XOne, 3DS и X360. Продажи по всем крупным платформам падают, скорее всего из-за экспансии мобильных игр, которые в данных отсутствуют. Продажи по PS3 и X360 падают значительно сильнее, чем у других платформ, вероятно потому что это предыдущее поколение PS4 и XOne соответственно.\n",
    "\n",
    "Потенциально наиболее прибыльные платформы - PS4, XOne и 3DS. Средняя выручка PS4 ~0.8 млн., XOne - 0.64 млн., 3DS - 0.47млн.. Медианная выручка PS4 - 0.2 млн., XOne - 0.22 млн., 3DS - 0.09млн.. Наиболее прибыльный жанр - Shooter(1.24млн. средняя выручка).\n",
    "\n",
    "Шанс получить наибольшую прибыль есть только у игр с оценками критиков 70-100, в остальном же ни пользовательские оценки, ни оценки критиков на прибыль сильно не влияют.\n",
    "\n",
    "Североамериканский пользователь предпочитает жанры Action и Shooter на платформе PS4, с возрастным рейтингом M. Европейский пользователь предпочитает жанр Action на платформе PS4, с возрастным рейтингом M. Японский пользователь предпочитает жанры Role-Playing и Action на платформе 3DS, с неуказанным возрастным рейтингом(что, вероятно, связано с тем, что в Японии популярны игры местной, японской разработки, которые не столь распространены в США и Канаде, а значит не интересны ESRB, которая ориентирована на североамериканский рынок).\n",
    "\n",
    "Гипотезу о том, что средние пользовательские рейтинги платформ Xbox One и PC одинаковые не отвергаем. Гипотезу о равенстве средних пользовательских рейтингов жанров Action и Sports отвергаем. \n",
    "\n",
    "Потенциально популярный продукт - игра жанра Action на платформе PS4 с возрастным рейтингом M.\n"
   ]
  },
  {
   "cell_type": "code",
   "execution_count": null,
   "metadata": {},
   "outputs": [],
   "source": []
  }
 ],
 "metadata": {
  "ExecuteTimeLog": [
   {
    "duration": 1227,
    "start_time": "2022-10-17T13:17:28.017Z"
   },
   {
    "duration": 242,
    "start_time": "2022-10-17T13:17:29.246Z"
   },
   {
    "duration": 4,
    "start_time": "2022-10-17T13:17:29.489Z"
   },
   {
    "duration": 16,
    "start_time": "2022-10-17T13:17:29.495Z"
   },
   {
    "duration": 15,
    "start_time": "2022-10-17T13:17:29.515Z"
   },
   {
    "duration": 13,
    "start_time": "2022-10-17T13:17:29.531Z"
   },
   {
    "duration": 37,
    "start_time": "2022-10-17T13:17:29.546Z"
   },
   {
    "duration": 29,
    "start_time": "2022-10-17T13:17:29.584Z"
   },
   {
    "duration": 268,
    "start_time": "2022-10-17T13:17:29.614Z"
   },
   {
    "duration": 11,
    "start_time": "2022-10-17T13:17:29.884Z"
   },
   {
    "duration": 264,
    "start_time": "2022-10-17T13:17:29.897Z"
   },
   {
    "duration": 122,
    "start_time": "2022-10-17T13:17:30.163Z"
   },
   {
    "duration": 139,
    "start_time": "2022-10-17T13:17:30.287Z"
   },
   {
    "duration": 117,
    "start_time": "2022-10-17T13:17:30.427Z"
   },
   {
    "duration": 129,
    "start_time": "2022-10-17T13:17:30.545Z"
   },
   {
    "duration": 118,
    "start_time": "2022-10-17T13:17:30.675Z"
   },
   {
    "duration": 129,
    "start_time": "2022-10-17T13:17:30.794Z"
   },
   {
    "duration": 193,
    "start_time": "2022-10-17T13:17:30.925Z"
   },
   {
    "duration": 131,
    "start_time": "2022-10-17T13:17:31.120Z"
   },
   {
    "duration": 129,
    "start_time": "2022-10-17T13:17:31.253Z"
   },
   {
    "duration": 9,
    "start_time": "2022-10-17T13:17:31.384Z"
   },
   {
    "duration": 25,
    "start_time": "2022-10-17T13:17:31.395Z"
   },
   {
    "duration": 117,
    "start_time": "2022-10-17T13:17:31.421Z"
   },
   {
    "duration": 115,
    "start_time": "2022-10-17T13:17:31.540Z"
   },
   {
    "duration": 118,
    "start_time": "2022-10-17T13:17:31.657Z"
   },
   {
    "duration": 109,
    "start_time": "2022-10-17T13:17:31.776Z"
   },
   {
    "duration": 127,
    "start_time": "2022-10-17T13:17:31.887Z"
   },
   {
    "duration": 120,
    "start_time": "2022-10-17T13:17:32.019Z"
   },
   {
    "duration": 138,
    "start_time": "2022-10-17T13:17:32.140Z"
   },
   {
    "duration": 134,
    "start_time": "2022-10-17T13:17:32.280Z"
   },
   {
    "duration": 201,
    "start_time": "2022-10-17T13:17:32.421Z"
   },
   {
    "duration": 247,
    "start_time": "2022-10-17T13:17:32.623Z"
   },
   {
    "duration": 150,
    "start_time": "2022-10-17T13:17:32.873Z"
   },
   {
    "duration": 126,
    "start_time": "2022-10-17T13:17:33.025Z"
   },
   {
    "duration": 141,
    "start_time": "2022-10-17T13:17:33.153Z"
   },
   {
    "duration": 147,
    "start_time": "2022-10-17T13:17:33.295Z"
   },
   {
    "duration": 124,
    "start_time": "2022-10-17T13:17:33.444Z"
   },
   {
    "duration": 128,
    "start_time": "2022-10-17T13:17:33.570Z"
   },
   {
    "duration": 18,
    "start_time": "2022-10-17T13:17:33.700Z"
   },
   {
    "duration": 7,
    "start_time": "2022-10-17T13:17:33.720Z"
   },
   {
    "duration": 8,
    "start_time": "2022-10-17T13:17:33.728Z"
   },
   {
    "duration": 7,
    "start_time": "2022-10-17T13:17:33.737Z"
   },
   {
    "duration": 8,
    "start_time": "2022-10-17T13:17:33.746Z"
   },
   {
    "duration": 5,
    "start_time": "2022-10-17T13:17:33.756Z"
   },
   {
    "duration": 5,
    "start_time": "2022-10-17T13:17:33.763Z"
   },
   {
    "duration": 42,
    "start_time": "2022-10-17T13:17:33.769Z"
   },
   {
    "duration": 8,
    "start_time": "2022-10-17T13:17:33.815Z"
   },
   {
    "duration": 10,
    "start_time": "2022-10-17T13:17:33.825Z"
   },
   {
    "duration": 8,
    "start_time": "2022-10-17T13:17:33.836Z"
   },
   {
    "duration": 11,
    "start_time": "2022-10-17T13:17:33.845Z"
   },
   {
    "duration": 8,
    "start_time": "2022-10-17T13:17:33.858Z"
   },
   {
    "duration": 6,
    "start_time": "2022-10-17T13:17:33.867Z"
   },
   {
    "duration": 1737,
    "start_time": "2022-10-17T13:17:54.473Z"
   },
   {
    "duration": 3,
    "start_time": "2022-10-17T13:18:03.963Z"
   },
   {
    "duration": 79,
    "start_time": "2022-10-17T13:18:03.968Z"
   },
   {
    "duration": 5,
    "start_time": "2022-10-17T13:18:04.048Z"
   },
   {
    "duration": 10,
    "start_time": "2022-10-17T13:18:04.054Z"
   },
   {
    "duration": 13,
    "start_time": "2022-10-17T13:18:04.066Z"
   },
   {
    "duration": 40,
    "start_time": "2022-10-17T13:18:04.080Z"
   },
   {
    "duration": 43,
    "start_time": "2022-10-17T13:18:04.121Z"
   },
   {
    "duration": 7,
    "start_time": "2022-10-17T13:18:04.166Z"
   },
   {
    "duration": 292,
    "start_time": "2022-10-17T13:18:04.175Z"
   },
   {
    "duration": 11,
    "start_time": "2022-10-17T13:18:04.469Z"
   },
   {
    "duration": 348,
    "start_time": "2022-10-17T13:18:04.483Z"
   },
   {
    "duration": 123,
    "start_time": "2022-10-17T13:18:04.832Z"
   },
   {
    "duration": 125,
    "start_time": "2022-10-17T13:18:04.957Z"
   },
   {
    "duration": 116,
    "start_time": "2022-10-17T13:18:05.084Z"
   },
   {
    "duration": 129,
    "start_time": "2022-10-17T13:18:05.204Z"
   },
   {
    "duration": 118,
    "start_time": "2022-10-17T13:18:05.334Z"
   },
   {
    "duration": 122,
    "start_time": "2022-10-17T13:18:05.454Z"
   },
   {
    "duration": 110,
    "start_time": "2022-10-17T13:18:05.578Z"
   },
   {
    "duration": 137,
    "start_time": "2022-10-17T13:18:05.690Z"
   },
   {
    "duration": 129,
    "start_time": "2022-10-17T13:18:05.828Z"
   },
   {
    "duration": 8,
    "start_time": "2022-10-17T13:18:05.959Z"
   },
   {
    "duration": 16,
    "start_time": "2022-10-17T13:18:05.969Z"
   },
   {
    "duration": 134,
    "start_time": "2022-10-17T13:18:05.987Z"
   },
   {
    "duration": 212,
    "start_time": "2022-10-17T13:18:06.123Z"
   },
   {
    "duration": 112,
    "start_time": "2022-10-17T13:18:06.337Z"
   },
   {
    "duration": 112,
    "start_time": "2022-10-17T13:18:06.450Z"
   },
   {
    "duration": 123,
    "start_time": "2022-10-17T13:18:06.564Z"
   },
   {
    "duration": 130,
    "start_time": "2022-10-17T13:18:06.689Z"
   },
   {
    "duration": 128,
    "start_time": "2022-10-17T13:18:06.823Z"
   },
   {
    "duration": 131,
    "start_time": "2022-10-17T13:18:06.953Z"
   },
   {
    "duration": 129,
    "start_time": "2022-10-17T13:18:07.085Z"
   },
   {
    "duration": 240,
    "start_time": "2022-10-17T13:18:07.219Z"
   },
   {
    "duration": 159,
    "start_time": "2022-10-17T13:18:07.461Z"
   },
   {
    "duration": 210,
    "start_time": "2022-10-17T13:18:07.622Z"
   },
   {
    "duration": 144,
    "start_time": "2022-10-17T13:18:07.833Z"
   },
   {
    "duration": 160,
    "start_time": "2022-10-17T13:18:07.979Z"
   },
   {
    "duration": 125,
    "start_time": "2022-10-17T13:18:08.140Z"
   },
   {
    "duration": 121,
    "start_time": "2022-10-17T13:18:08.266Z"
   },
   {
    "duration": 30,
    "start_time": "2022-10-17T13:18:08.388Z"
   },
   {
    "duration": 7,
    "start_time": "2022-10-17T13:18:08.419Z"
   },
   {
    "duration": 7,
    "start_time": "2022-10-17T13:18:08.427Z"
   },
   {
    "duration": 6,
    "start_time": "2022-10-17T13:18:08.435Z"
   },
   {
    "duration": 9,
    "start_time": "2022-10-17T13:18:08.442Z"
   },
   {
    "duration": 7,
    "start_time": "2022-10-17T13:18:08.452Z"
   },
   {
    "duration": 6,
    "start_time": "2022-10-17T13:18:08.460Z"
   },
   {
    "duration": 5,
    "start_time": "2022-10-17T13:18:08.467Z"
   },
   {
    "duration": 7,
    "start_time": "2022-10-17T13:18:08.474Z"
   },
   {
    "duration": 11,
    "start_time": "2022-10-17T13:18:08.505Z"
   },
   {
    "duration": 14,
    "start_time": "2022-10-17T13:18:08.517Z"
   },
   {
    "duration": 6,
    "start_time": "2022-10-17T13:18:08.532Z"
   },
   {
    "duration": 10,
    "start_time": "2022-10-17T13:18:08.547Z"
   },
   {
    "duration": 20,
    "start_time": "2022-10-17T13:18:08.559Z"
   },
   {
    "duration": 1597,
    "start_time": "2022-10-17T13:18:33.593Z"
   },
   {
    "duration": 3,
    "start_time": "2022-10-17T13:18:37.935Z"
   },
   {
    "duration": 91,
    "start_time": "2022-10-17T13:18:37.940Z"
   },
   {
    "duration": 5,
    "start_time": "2022-10-17T13:18:38.033Z"
   },
   {
    "duration": 14,
    "start_time": "2022-10-17T13:18:38.039Z"
   },
   {
    "duration": 0,
    "start_time": "2022-10-17T13:18:38.056Z"
   },
   {
    "duration": 0,
    "start_time": "2022-10-17T13:18:38.057Z"
   },
   {
    "duration": 0,
    "start_time": "2022-10-17T13:18:38.058Z"
   },
   {
    "duration": 0,
    "start_time": "2022-10-17T13:18:38.059Z"
   },
   {
    "duration": 0,
    "start_time": "2022-10-17T13:18:38.060Z"
   },
   {
    "duration": 0,
    "start_time": "2022-10-17T13:18:38.061Z"
   },
   {
    "duration": 0,
    "start_time": "2022-10-17T13:18:38.062Z"
   },
   {
    "duration": 0,
    "start_time": "2022-10-17T13:18:38.063Z"
   },
   {
    "duration": 0,
    "start_time": "2022-10-17T13:18:38.065Z"
   },
   {
    "duration": 0,
    "start_time": "2022-10-17T13:18:38.067Z"
   },
   {
    "duration": 0,
    "start_time": "2022-10-17T13:18:38.068Z"
   },
   {
    "duration": 0,
    "start_time": "2022-10-17T13:18:38.069Z"
   },
   {
    "duration": 0,
    "start_time": "2022-10-17T13:18:38.070Z"
   },
   {
    "duration": 1615,
    "start_time": "2022-10-17T13:18:38.106Z"
   },
   {
    "duration": 0,
    "start_time": "2022-10-17T13:18:39.723Z"
   },
   {
    "duration": 0,
    "start_time": "2022-10-17T13:18:39.725Z"
   },
   {
    "duration": 0,
    "start_time": "2022-10-17T13:18:39.726Z"
   },
   {
    "duration": 0,
    "start_time": "2022-10-17T13:18:39.728Z"
   },
   {
    "duration": 0,
    "start_time": "2022-10-17T13:18:39.729Z"
   },
   {
    "duration": 0,
    "start_time": "2022-10-17T13:18:39.730Z"
   },
   {
    "duration": 0,
    "start_time": "2022-10-17T13:18:39.732Z"
   },
   {
    "duration": 0,
    "start_time": "2022-10-17T13:18:39.733Z"
   },
   {
    "duration": 0,
    "start_time": "2022-10-17T13:18:39.734Z"
   },
   {
    "duration": 0,
    "start_time": "2022-10-17T13:18:39.735Z"
   },
   {
    "duration": 0,
    "start_time": "2022-10-17T13:18:39.737Z"
   },
   {
    "duration": 0,
    "start_time": "2022-10-17T13:18:39.738Z"
   },
   {
    "duration": 0,
    "start_time": "2022-10-17T13:18:39.739Z"
   },
   {
    "duration": 0,
    "start_time": "2022-10-17T13:18:39.740Z"
   },
   {
    "duration": 0,
    "start_time": "2022-10-17T13:18:39.741Z"
   },
   {
    "duration": 0,
    "start_time": "2022-10-17T13:18:39.743Z"
   },
   {
    "duration": 0,
    "start_time": "2022-10-17T13:18:39.744Z"
   },
   {
    "duration": 0,
    "start_time": "2022-10-17T13:18:39.745Z"
   },
   {
    "duration": 0,
    "start_time": "2022-10-17T13:18:39.747Z"
   },
   {
    "duration": 1,
    "start_time": "2022-10-17T13:18:39.747Z"
   },
   {
    "duration": 0,
    "start_time": "2022-10-17T13:18:39.748Z"
   },
   {
    "duration": 0,
    "start_time": "2022-10-17T13:18:39.749Z"
   },
   {
    "duration": 0,
    "start_time": "2022-10-17T13:18:39.750Z"
   },
   {
    "duration": 0,
    "start_time": "2022-10-17T13:18:39.751Z"
   },
   {
    "duration": 0,
    "start_time": "2022-10-17T13:18:39.752Z"
   },
   {
    "duration": 0,
    "start_time": "2022-10-17T13:18:39.754Z"
   },
   {
    "duration": 0,
    "start_time": "2022-10-17T13:18:39.805Z"
   },
   {
    "duration": 0,
    "start_time": "2022-10-17T13:18:39.806Z"
   },
   {
    "duration": 0,
    "start_time": "2022-10-17T13:18:39.807Z"
   },
   {
    "duration": 0,
    "start_time": "2022-10-17T13:18:39.808Z"
   },
   {
    "duration": 0,
    "start_time": "2022-10-17T13:18:39.809Z"
   },
   {
    "duration": 0,
    "start_time": "2022-10-17T13:18:39.810Z"
   },
   {
    "duration": 0,
    "start_time": "2022-10-17T13:18:39.811Z"
   },
   {
    "duration": 0,
    "start_time": "2022-10-17T13:18:39.812Z"
   },
   {
    "duration": 13,
    "start_time": "2022-10-17T13:19:05.219Z"
   },
   {
    "duration": 11,
    "start_time": "2022-10-17T13:19:17.262Z"
   },
   {
    "duration": 6,
    "start_time": "2022-10-17T13:19:40.653Z"
   },
   {
    "duration": 13,
    "start_time": "2022-10-17T13:19:54.472Z"
   },
   {
    "duration": 13,
    "start_time": "2022-10-17T13:19:56.603Z"
   },
   {
    "duration": 3,
    "start_time": "2022-10-17T13:23:00.553Z"
   },
   {
    "duration": 127,
    "start_time": "2022-10-17T13:23:00.558Z"
   },
   {
    "duration": 6,
    "start_time": "2022-10-17T13:23:00.688Z"
   },
   {
    "duration": 34,
    "start_time": "2022-10-17T13:23:00.696Z"
   },
   {
    "duration": 1356,
    "start_time": "2022-10-17T13:23:00.734Z"
   },
   {
    "duration": 0,
    "start_time": "2022-10-17T13:23:02.093Z"
   },
   {
    "duration": 1,
    "start_time": "2022-10-17T13:23:02.094Z"
   },
   {
    "duration": 0,
    "start_time": "2022-10-17T13:23:02.095Z"
   },
   {
    "duration": 0,
    "start_time": "2022-10-17T13:23:02.097Z"
   },
   {
    "duration": 0,
    "start_time": "2022-10-17T13:23:02.098Z"
   },
   {
    "duration": 0,
    "start_time": "2022-10-17T13:23:02.100Z"
   },
   {
    "duration": 0,
    "start_time": "2022-10-17T13:23:02.101Z"
   },
   {
    "duration": 0,
    "start_time": "2022-10-17T13:23:02.102Z"
   },
   {
    "duration": 0,
    "start_time": "2022-10-17T13:23:02.103Z"
   },
   {
    "duration": 0,
    "start_time": "2022-10-17T13:23:02.104Z"
   },
   {
    "duration": 0,
    "start_time": "2022-10-17T13:23:02.105Z"
   },
   {
    "duration": 0,
    "start_time": "2022-10-17T13:23:02.106Z"
   },
   {
    "duration": 0,
    "start_time": "2022-10-17T13:23:02.107Z"
   },
   {
    "duration": 0,
    "start_time": "2022-10-17T13:23:02.108Z"
   },
   {
    "duration": 0,
    "start_time": "2022-10-17T13:23:02.110Z"
   },
   {
    "duration": 0,
    "start_time": "2022-10-17T13:23:02.111Z"
   },
   {
    "duration": 0,
    "start_time": "2022-10-17T13:23:02.113Z"
   },
   {
    "duration": 0,
    "start_time": "2022-10-17T13:23:02.115Z"
   },
   {
    "duration": 0,
    "start_time": "2022-10-17T13:23:02.118Z"
   },
   {
    "duration": 0,
    "start_time": "2022-10-17T13:23:02.119Z"
   },
   {
    "duration": 0,
    "start_time": "2022-10-17T13:23:02.120Z"
   },
   {
    "duration": 0,
    "start_time": "2022-10-17T13:23:02.121Z"
   },
   {
    "duration": 0,
    "start_time": "2022-10-17T13:23:02.122Z"
   },
   {
    "duration": 0,
    "start_time": "2022-10-17T13:23:02.123Z"
   },
   {
    "duration": 0,
    "start_time": "2022-10-17T13:23:02.124Z"
   },
   {
    "duration": 0,
    "start_time": "2022-10-17T13:23:02.125Z"
   },
   {
    "duration": 0,
    "start_time": "2022-10-17T13:23:02.126Z"
   },
   {
    "duration": 0,
    "start_time": "2022-10-17T13:23:02.127Z"
   },
   {
    "duration": 0,
    "start_time": "2022-10-17T13:23:02.128Z"
   },
   {
    "duration": 0,
    "start_time": "2022-10-17T13:23:02.129Z"
   },
   {
    "duration": 0,
    "start_time": "2022-10-17T13:23:02.131Z"
   },
   {
    "duration": 0,
    "start_time": "2022-10-17T13:23:02.132Z"
   },
   {
    "duration": 0,
    "start_time": "2022-10-17T13:23:02.133Z"
   },
   {
    "duration": 0,
    "start_time": "2022-10-17T13:23:02.134Z"
   },
   {
    "duration": 0,
    "start_time": "2022-10-17T13:23:02.135Z"
   },
   {
    "duration": 0,
    "start_time": "2022-10-17T13:23:02.137Z"
   },
   {
    "duration": 0,
    "start_time": "2022-10-17T13:23:02.138Z"
   },
   {
    "duration": 0,
    "start_time": "2022-10-17T13:23:02.139Z"
   },
   {
    "duration": 0,
    "start_time": "2022-10-17T13:23:02.140Z"
   },
   {
    "duration": 0,
    "start_time": "2022-10-17T13:23:02.142Z"
   },
   {
    "duration": 0,
    "start_time": "2022-10-17T13:23:02.144Z"
   },
   {
    "duration": 0,
    "start_time": "2022-10-17T13:23:02.145Z"
   },
   {
    "duration": 0,
    "start_time": "2022-10-17T13:23:02.146Z"
   },
   {
    "duration": 0,
    "start_time": "2022-10-17T13:23:02.205Z"
   },
   {
    "duration": 0,
    "start_time": "2022-10-17T13:23:02.207Z"
   },
   {
    "duration": 0,
    "start_time": "2022-10-17T13:23:02.208Z"
   },
   {
    "duration": 0,
    "start_time": "2022-10-17T13:23:02.210Z"
   },
   {
    "duration": 0,
    "start_time": "2022-10-17T13:23:02.211Z"
   },
   {
    "duration": 9,
    "start_time": "2022-10-17T13:23:57.703Z"
   },
   {
    "duration": 74,
    "start_time": "2022-10-17T13:23:57.715Z"
   },
   {
    "duration": 4,
    "start_time": "2022-10-17T13:23:57.791Z"
   },
   {
    "duration": 19,
    "start_time": "2022-10-17T13:23:57.797Z"
   },
   {
    "duration": 5,
    "start_time": "2022-10-17T13:23:57.817Z"
   },
   {
    "duration": 16,
    "start_time": "2022-10-17T13:23:57.824Z"
   },
   {
    "duration": 13,
    "start_time": "2022-10-17T13:23:57.842Z"
   },
   {
    "duration": 33,
    "start_time": "2022-10-17T13:23:57.857Z"
   },
   {
    "duration": 23,
    "start_time": "2022-10-17T13:23:57.891Z"
   },
   {
    "duration": 284,
    "start_time": "2022-10-17T13:23:57.916Z"
   },
   {
    "duration": 17,
    "start_time": "2022-10-17T13:23:58.206Z"
   },
   {
    "duration": 283,
    "start_time": "2022-10-17T13:23:58.224Z"
   },
   {
    "duration": 154,
    "start_time": "2022-10-17T13:23:58.515Z"
   },
   {
    "duration": 205,
    "start_time": "2022-10-17T13:23:58.671Z"
   },
   {
    "duration": 118,
    "start_time": "2022-10-17T13:23:58.879Z"
   },
   {
    "duration": 128,
    "start_time": "2022-10-17T13:23:58.999Z"
   },
   {
    "duration": 128,
    "start_time": "2022-10-17T13:23:59.129Z"
   },
   {
    "duration": 120,
    "start_time": "2022-10-17T13:23:59.258Z"
   },
   {
    "duration": 104,
    "start_time": "2022-10-17T13:23:59.380Z"
   },
   {
    "duration": 141,
    "start_time": "2022-10-17T13:23:59.485Z"
   },
   {
    "duration": 130,
    "start_time": "2022-10-17T13:23:59.627Z"
   },
   {
    "duration": 8,
    "start_time": "2022-10-17T13:23:59.758Z"
   },
   {
    "duration": 12,
    "start_time": "2022-10-17T13:23:59.768Z"
   },
   {
    "duration": 138,
    "start_time": "2022-10-17T13:23:59.782Z"
   },
   {
    "duration": 116,
    "start_time": "2022-10-17T13:23:59.921Z"
   },
   {
    "duration": 114,
    "start_time": "2022-10-17T13:24:00.038Z"
   },
   {
    "duration": 198,
    "start_time": "2022-10-17T13:24:00.153Z"
   },
   {
    "duration": 120,
    "start_time": "2022-10-17T13:24:00.353Z"
   },
   {
    "duration": 130,
    "start_time": "2022-10-17T13:24:00.475Z"
   },
   {
    "duration": 137,
    "start_time": "2022-10-17T13:24:00.607Z"
   },
   {
    "duration": 138,
    "start_time": "2022-10-17T13:24:00.746Z"
   },
   {
    "duration": 122,
    "start_time": "2022-10-17T13:24:00.886Z"
   },
   {
    "duration": 245,
    "start_time": "2022-10-17T13:24:01.009Z"
   },
   {
    "duration": 141,
    "start_time": "2022-10-17T13:24:01.256Z"
   },
   {
    "duration": 134,
    "start_time": "2022-10-17T13:24:01.399Z"
   },
   {
    "duration": 145,
    "start_time": "2022-10-17T13:24:01.535Z"
   },
   {
    "duration": 207,
    "start_time": "2022-10-17T13:24:01.681Z"
   },
   {
    "duration": 130,
    "start_time": "2022-10-17T13:24:01.890Z"
   },
   {
    "duration": 126,
    "start_time": "2022-10-17T13:24:02.022Z"
   },
   {
    "duration": 6,
    "start_time": "2022-10-17T13:24:02.150Z"
   },
   {
    "duration": 11,
    "start_time": "2022-10-17T13:24:02.158Z"
   },
   {
    "duration": 7,
    "start_time": "2022-10-17T13:24:02.173Z"
   },
   {
    "duration": 7,
    "start_time": "2022-10-17T13:24:02.181Z"
   },
   {
    "duration": 26,
    "start_time": "2022-10-17T13:24:02.190Z"
   },
   {
    "duration": 11,
    "start_time": "2022-10-17T13:24:02.218Z"
   },
   {
    "duration": 18,
    "start_time": "2022-10-17T13:24:02.230Z"
   },
   {
    "duration": 8,
    "start_time": "2022-10-17T13:24:02.250Z"
   },
   {
    "duration": 8,
    "start_time": "2022-10-17T13:24:02.259Z"
   },
   {
    "duration": 11,
    "start_time": "2022-10-17T13:24:02.269Z"
   },
   {
    "duration": 6,
    "start_time": "2022-10-17T13:24:02.282Z"
   },
   {
    "duration": 7,
    "start_time": "2022-10-17T13:24:02.290Z"
   },
   {
    "duration": 20,
    "start_time": "2022-10-17T13:24:02.298Z"
   },
   {
    "duration": 10,
    "start_time": "2022-10-17T13:24:02.319Z"
   },
   {
    "duration": 146,
    "start_time": "2022-10-17T13:32:08.431Z"
   },
   {
    "duration": 121,
    "start_time": "2022-10-17T13:32:27.752Z"
   },
   {
    "duration": 62,
    "start_time": "2022-10-17T13:35:48.885Z"
   },
   {
    "duration": 425,
    "start_time": "2022-10-17T13:41:49.533Z"
   },
   {
    "duration": 551,
    "start_time": "2022-10-17T13:42:18.181Z"
   },
   {
    "duration": 432,
    "start_time": "2022-10-17T13:43:22.451Z"
   },
   {
    "duration": 500,
    "start_time": "2022-10-17T13:43:54.998Z"
   },
   {
    "duration": 468,
    "start_time": "2022-10-17T13:44:39.667Z"
   },
   {
    "duration": 15,
    "start_time": "2022-10-17T13:47:47.080Z"
   },
   {
    "duration": 14,
    "start_time": "2022-10-17T13:47:56.099Z"
   },
   {
    "duration": 564,
    "start_time": "2022-10-17T13:48:19.794Z"
   },
   {
    "duration": 544,
    "start_time": "2022-10-17T13:49:18.149Z"
   },
   {
    "duration": 470,
    "start_time": "2022-10-17T13:50:34.962Z"
   },
   {
    "duration": 566,
    "start_time": "2022-10-17T13:53:06.120Z"
   },
   {
    "duration": 69,
    "start_time": "2022-10-17T13:54:46.738Z"
   },
   {
    "duration": 426,
    "start_time": "2022-10-17T13:55:10.724Z"
   },
   {
    "duration": 175,
    "start_time": "2022-10-17T14:00:17.978Z"
   },
   {
    "duration": 284,
    "start_time": "2022-10-17T14:00:33.250Z"
   },
   {
    "duration": 370,
    "start_time": "2022-10-17T14:00:56.200Z"
   },
   {
    "duration": 302,
    "start_time": "2022-10-17T14:01:06.060Z"
   },
   {
    "duration": 376,
    "start_time": "2022-10-17T14:01:13.911Z"
   },
   {
    "duration": 10,
    "start_time": "2022-10-17T14:02:19.055Z"
   },
   {
    "duration": 305,
    "start_time": "2022-10-17T14:03:03.567Z"
   },
   {
    "duration": 142,
    "start_time": "2022-10-17T14:04:10.671Z"
   },
   {
    "duration": 132,
    "start_time": "2022-10-17T14:04:26.480Z"
   },
   {
    "duration": 312,
    "start_time": "2022-10-17T14:04:31.966Z"
   },
   {
    "duration": 11,
    "start_time": "2022-10-17T14:04:54.333Z"
   },
   {
    "duration": 333,
    "start_time": "2022-10-17T14:05:03.344Z"
   },
   {
    "duration": 422,
    "start_time": "2022-10-17T14:05:19.765Z"
   },
   {
    "duration": 73,
    "start_time": "2022-10-17T14:05:42.724Z"
   },
   {
    "duration": 308,
    "start_time": "2022-10-17T14:05:54.931Z"
   },
   {
    "duration": 314,
    "start_time": "2022-10-17T14:06:24.976Z"
   },
   {
    "duration": 13,
    "start_time": "2022-10-17T14:06:45.516Z"
   },
   {
    "duration": 298,
    "start_time": "2022-10-17T14:07:10.558Z"
   },
   {
    "duration": 5,
    "start_time": "2022-10-17T14:07:35.832Z"
   },
   {
    "duration": 4,
    "start_time": "2022-10-17T14:07:45.803Z"
   },
   {
    "duration": 5,
    "start_time": "2022-10-17T14:07:53.180Z"
   },
   {
    "duration": 4,
    "start_time": "2022-10-17T14:08:08.111Z"
   },
   {
    "duration": 5,
    "start_time": "2022-10-17T14:08:28.065Z"
   },
   {
    "duration": 66,
    "start_time": "2022-10-17T14:08:45.108Z"
   },
   {
    "duration": 4,
    "start_time": "2022-10-17T14:08:50.908Z"
   },
   {
    "duration": 5,
    "start_time": "2022-10-17T14:09:02.403Z"
   },
   {
    "duration": 321,
    "start_time": "2022-10-17T14:09:08.763Z"
   },
   {
    "duration": 415,
    "start_time": "2022-10-17T14:09:14.154Z"
   },
   {
    "duration": 3,
    "start_time": "2022-10-17T14:10:23.390Z"
   },
   {
    "duration": 78,
    "start_time": "2022-10-17T14:10:23.395Z"
   },
   {
    "duration": 4,
    "start_time": "2022-10-17T14:10:23.475Z"
   },
   {
    "duration": 14,
    "start_time": "2022-10-17T14:10:23.482Z"
   },
   {
    "duration": 13,
    "start_time": "2022-10-17T14:10:23.497Z"
   },
   {
    "duration": 18,
    "start_time": "2022-10-17T14:10:23.512Z"
   },
   {
    "duration": 15,
    "start_time": "2022-10-17T14:10:23.531Z"
   },
   {
    "duration": 41,
    "start_time": "2022-10-17T14:10:23.548Z"
   },
   {
    "duration": 22,
    "start_time": "2022-10-17T14:10:23.591Z"
   },
   {
    "duration": 254,
    "start_time": "2022-10-17T14:10:23.852Z"
   },
   {
    "duration": 10,
    "start_time": "2022-10-17T14:10:24.108Z"
   },
   {
    "duration": 6,
    "start_time": "2022-10-17T14:10:24.120Z"
   },
   {
    "duration": 362,
    "start_time": "2022-10-17T14:10:24.128Z"
   },
   {
    "duration": 118,
    "start_time": "2022-10-17T14:10:24.492Z"
   },
   {
    "duration": 133,
    "start_time": "2022-10-17T14:10:24.612Z"
   },
   {
    "duration": 206,
    "start_time": "2022-10-17T14:10:24.746Z"
   },
   {
    "duration": 152,
    "start_time": "2022-10-17T14:10:24.953Z"
   },
   {
    "duration": 120,
    "start_time": "2022-10-17T14:10:25.106Z"
   },
   {
    "duration": 114,
    "start_time": "2022-10-17T14:10:25.227Z"
   },
   {
    "duration": 114,
    "start_time": "2022-10-17T14:10:25.342Z"
   },
   {
    "duration": 241,
    "start_time": "2022-10-17T14:10:25.458Z"
   },
   {
    "duration": 126,
    "start_time": "2022-10-17T14:10:25.701Z"
   },
   {
    "duration": 8,
    "start_time": "2022-10-17T14:10:25.829Z"
   },
   {
    "duration": 22,
    "start_time": "2022-10-17T14:10:25.839Z"
   },
   {
    "duration": 128,
    "start_time": "2022-10-17T14:10:25.863Z"
   },
   {
    "duration": 122,
    "start_time": "2022-10-17T14:10:25.993Z"
   },
   {
    "duration": 125,
    "start_time": "2022-10-17T14:10:26.117Z"
   },
   {
    "duration": 152,
    "start_time": "2022-10-17T14:10:26.244Z"
   },
   {
    "duration": 119,
    "start_time": "2022-10-17T14:10:26.398Z"
   },
   {
    "duration": 153,
    "start_time": "2022-10-17T14:10:26.519Z"
   },
   {
    "duration": 140,
    "start_time": "2022-10-17T14:10:26.673Z"
   },
   {
    "duration": 167,
    "start_time": "2022-10-17T14:10:26.815Z"
   },
   {
    "duration": 121,
    "start_time": "2022-10-17T14:10:26.984Z"
   },
   {
    "duration": 564,
    "start_time": "2022-10-17T14:10:27.107Z"
   },
   {
    "duration": 257,
    "start_time": "2022-10-17T14:10:27.672Z"
   },
   {
    "duration": 169,
    "start_time": "2022-10-17T14:10:27.933Z"
   },
   {
    "duration": 155,
    "start_time": "2022-10-17T14:10:28.105Z"
   },
   {
    "duration": 173,
    "start_time": "2022-10-17T14:10:28.262Z"
   },
   {
    "duration": 189,
    "start_time": "2022-10-17T14:10:28.437Z"
   },
   {
    "duration": 125,
    "start_time": "2022-10-17T14:10:28.628Z"
   },
   {
    "duration": 119,
    "start_time": "2022-10-17T14:10:28.755Z"
   },
   {
    "duration": 7,
    "start_time": "2022-10-17T14:10:28.876Z"
   },
   {
    "duration": 22,
    "start_time": "2022-10-17T14:10:28.884Z"
   },
   {
    "duration": 6,
    "start_time": "2022-10-17T14:10:28.907Z"
   },
   {
    "duration": 17,
    "start_time": "2022-10-17T14:10:28.915Z"
   },
   {
    "duration": 9,
    "start_time": "2022-10-17T14:10:28.933Z"
   },
   {
    "duration": 6,
    "start_time": "2022-10-17T14:10:28.943Z"
   },
   {
    "duration": 8,
    "start_time": "2022-10-17T14:10:28.951Z"
   },
   {
    "duration": 8,
    "start_time": "2022-10-17T14:10:28.960Z"
   },
   {
    "duration": 9,
    "start_time": "2022-10-17T14:10:28.971Z"
   },
   {
    "duration": 7,
    "start_time": "2022-10-17T14:10:29.004Z"
   },
   {
    "duration": 9,
    "start_time": "2022-10-17T14:10:29.013Z"
   },
   {
    "duration": 8,
    "start_time": "2022-10-17T14:10:29.024Z"
   },
   {
    "duration": 13,
    "start_time": "2022-10-17T14:10:29.034Z"
   },
   {
    "duration": 12,
    "start_time": "2022-10-17T14:10:29.050Z"
   },
   {
    "duration": 309,
    "start_time": "2022-10-17T14:10:42.852Z"
   },
   {
    "duration": 4,
    "start_time": "2022-10-17T14:11:14.487Z"
   },
   {
    "duration": 3,
    "start_time": "2022-10-17T14:11:37.031Z"
   },
   {
    "duration": 329,
    "start_time": "2022-10-17T14:11:52.361Z"
   },
   {
    "duration": 907,
    "start_time": "2022-10-17T14:12:08.751Z"
   },
   {
    "duration": 391,
    "start_time": "2022-10-17T14:12:17.851Z"
   },
   {
    "duration": 508,
    "start_time": "2022-10-17T14:12:27.081Z"
   },
   {
    "duration": 15,
    "start_time": "2022-10-17T14:13:56.357Z"
   },
   {
    "duration": 312,
    "start_time": "2022-10-17T14:14:48.867Z"
   },
   {
    "duration": 10,
    "start_time": "2022-10-17T14:15:47.710Z"
   },
   {
    "duration": 469,
    "start_time": "2022-10-17T14:16:15.950Z"
   },
   {
    "duration": 417,
    "start_time": "2022-10-17T14:16:24.612Z"
   },
   {
    "duration": 295,
    "start_time": "2022-10-17T14:16:42.572Z"
   },
   {
    "duration": 17,
    "start_time": "2022-10-17T14:17:54.225Z"
   },
   {
    "duration": 454,
    "start_time": "2022-10-17T14:26:16.541Z"
   },
   {
    "duration": 23,
    "start_time": "2022-10-17T14:42:00.742Z"
   }
  ],
  "kernelspec": {
   "display_name": "Python 3",
   "language": "python",
   "name": "python3"
  },
  "language_info": {
   "codemirror_mode": {
    "name": "ipython",
    "version": 3
   },
   "file_extension": ".py",
   "mimetype": "text/x-python",
   "name": "python",
   "nbconvert_exporter": "python",
   "pygments_lexer": "ipython3",
   "version": "3.8.8"
  },
  "toc": {
   "base_numbering": 1,
   "nav_menu": {},
   "number_sections": true,
   "sideBar": true,
   "skip_h1_title": true,
   "title_cell": "Table of Contents",
   "title_sidebar": "Contents",
   "toc_cell": false,
   "toc_position": {
    "height": "calc(100% - 180px)",
    "left": "10px",
    "top": "150px",
    "width": "172.708px"
   },
   "toc_section_display": true,
   "toc_window_display": false
  }
 },
 "nbformat": 4,
 "nbformat_minor": 2
}
